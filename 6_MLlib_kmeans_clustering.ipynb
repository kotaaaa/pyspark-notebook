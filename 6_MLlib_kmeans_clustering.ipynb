{
 "cells": [
  {
   "cell_type": "code",
   "execution_count": 1,
   "id": "da5e1c2b-9fd3-43db-a56e-d27c0d83d241",
   "metadata": {},
   "outputs": [],
   "source": [
    "# k-meansによるクラスタリング\n",
    "# - iris のデータを用いてその種類のクラスタリングを試みる\n",
    "import numpy as np \n",
    "import pandas as pd "
   ]
  },
  {
   "cell_type": "code",
   "execution_count": 3,
   "id": "0c810f4a-df98-42f4-9746-b0d674fee734",
   "metadata": {},
   "outputs": [],
   "source": [
    "from pyspark.sql import SparkSession\n",
    "spark = SparkSession.builder.master(\"local\").appName(\"kmeans\").getOrCreate()"
   ]
  },
  {
   "cell_type": "code",
   "execution_count": 4,
   "id": "281dcbef-6f6d-4f0c-9289-06aaf38add9e",
   "metadata": {},
   "outputs": [],
   "source": [
    "filename = \"./data/iris/iris.csv\"\n",
    "data = spark.read.csv(filename, header=True, inferSchema=True, sep=\",\")"
   ]
  },
  {
   "cell_type": "code",
   "execution_count": 5,
   "id": "07c2b205-735b-4441-b79e-dd0fe7cfa43d",
   "metadata": {},
   "outputs": [
    {
     "name": "stdout",
     "output_type": "stream",
     "text": [
      "+------------+-----------+------------+-----------+-------+\n",
      "|sepal_length|sepal_width|petal_length|petal_width|species|\n",
      "+------------+-----------+------------+-----------+-------+\n",
      "|         5.1|        3.5|         1.4|        0.2| setosa|\n",
      "|         4.9|        3.0|         1.4|        0.2| setosa|\n",
      "|         4.7|        3.2|         1.3|        0.2| setosa|\n",
      "|         4.6|        3.1|         1.5|        0.2| setosa|\n",
      "|         5.0|        3.6|         1.4|        0.2| setosa|\n",
      "|         5.4|        3.9|         1.7|        0.4| setosa|\n",
      "|         4.6|        3.4|         1.4|        0.3| setosa|\n",
      "|         5.0|        3.4|         1.5|        0.2| setosa|\n",
      "|         4.4|        2.9|         1.4|        0.2| setosa|\n",
      "|         4.9|        3.1|         1.5|        0.1| setosa|\n",
      "|         5.4|        3.7|         1.5|        0.2| setosa|\n",
      "|         4.8|        3.4|         1.6|        0.2| setosa|\n",
      "|         4.8|        3.0|         1.4|        0.1| setosa|\n",
      "|         4.3|        3.0|         1.1|        0.1| setosa|\n",
      "|         5.8|        4.0|         1.2|        0.2| setosa|\n",
      "|         5.7|        4.4|         1.5|        0.4| setosa|\n",
      "|         5.4|        3.9|         1.3|        0.4| setosa|\n",
      "|         5.1|        3.5|         1.4|        0.3| setosa|\n",
      "|         5.7|        3.8|         1.7|        0.3| setosa|\n",
      "|         5.1|        3.8|         1.5|        0.3| setosa|\n",
      "+------------+-----------+------------+-----------+-------+\n",
      "only showing top 20 rows\n",
      "\n"
     ]
    }
   ],
   "source": [
    "data.show()"
   ]
  },
  {
   "cell_type": "code",
   "execution_count": 6,
   "id": "e7c90349-911e-4757-966e-1b14cc3fb406",
   "metadata": {},
   "outputs": [
    {
     "data": {
      "text/plain": [
       "[('sepal_length', 'double'),\n",
       " ('sepal_width', 'double'),\n",
       " ('petal_length', 'double'),\n",
       " ('petal_width', 'double'),\n",
       " ('species', 'string')]"
      ]
     },
     "execution_count": 6,
     "metadata": {},
     "output_type": "execute_result"
    }
   ],
   "source": [
    "data.dtypes"
   ]
  },
  {
   "cell_type": "code",
   "execution_count": 7,
   "id": "2124f0fc-b419-4c82-a808-11e4f5f7b28c",
   "metadata": {},
   "outputs": [
    {
     "name": "stdout",
     "output_type": "stream",
     "text": [
      "+-------+------------------+-------------------+------------------+------------------+---------+\n",
      "|summary|      sepal_length|        sepal_width|      petal_length|       petal_width|  species|\n",
      "+-------+------------------+-------------------+------------------+------------------+---------+\n",
      "|  count|               150|                150|               150|               150|      150|\n",
      "|   mean| 5.843333333333335| 3.0540000000000007|3.7586666666666693|1.1986666666666672|     null|\n",
      "| stddev|0.8280661279778637|0.43359431136217375| 1.764420419952262|0.7631607417008414|     null|\n",
      "|    min|               4.3|                2.0|               1.0|               0.1|   setosa|\n",
      "|    25%|               5.1|                2.8|               1.6|               0.3|     null|\n",
      "|    50%|               5.8|                3.0|               4.3|               1.3|     null|\n",
      "|    75%|               6.4|                3.3|               5.1|               1.8|     null|\n",
      "|    max|               7.9|                4.4|               6.9|               2.5|virginica|\n",
      "+-------+------------------+-------------------+------------------+------------------+---------+\n",
      "\n"
     ]
    }
   ],
   "source": [
    "data.summary().show()"
   ]
  },
  {
   "cell_type": "code",
   "execution_count": 8,
   "id": "c1c78648-4842-49de-98f8-fdb2f94e2697",
   "metadata": {},
   "outputs": [
    {
     "name": "stdout",
     "output_type": "stream",
     "text": [
      "+----------+-----+\n",
      "|   species|count|\n",
      "+----------+-----+\n",
      "| virginica|   50|\n",
      "|versicolor|   50|\n",
      "|    setosa|   50|\n",
      "+----------+-----+\n",
      "\n"
     ]
    }
   ],
   "source": [
    "data.groupBy(\"species\").count().show()"
   ]
  },
  {
   "cell_type": "code",
   "execution_count": 9,
   "id": "f1863204-254a-41e6-b86e-e942840174c9",
   "metadata": {},
   "outputs": [],
   "source": [
    "df = data.select(\"sepal_length\",\"sepal_width\",\"petal_length\",\"petal_width\",\"species\")"
   ]
  },
  {
   "cell_type": "code",
   "execution_count": 10,
   "id": "a397d221-4aae-496f-927d-903c63546eb1",
   "metadata": {},
   "outputs": [
    {
     "name": "stdout",
     "output_type": "stream",
     "text": [
      "+------------+-----------+------------+-----------+-------+\n",
      "|sepal_length|sepal_width|petal_length|petal_width|species|\n",
      "+------------+-----------+------------+-----------+-------+\n",
      "|         5.1|        3.5|         1.4|        0.2| setosa|\n",
      "|         4.9|        3.0|         1.4|        0.2| setosa|\n",
      "|         4.7|        3.2|         1.3|        0.2| setosa|\n",
      "|         4.6|        3.1|         1.5|        0.2| setosa|\n",
      "|         5.0|        3.6|         1.4|        0.2| setosa|\n",
      "|         5.4|        3.9|         1.7|        0.4| setosa|\n",
      "|         4.6|        3.4|         1.4|        0.3| setosa|\n",
      "|         5.0|        3.4|         1.5|        0.2| setosa|\n",
      "|         4.4|        2.9|         1.4|        0.2| setosa|\n",
      "|         4.9|        3.1|         1.5|        0.1| setosa|\n",
      "|         5.4|        3.7|         1.5|        0.2| setosa|\n",
      "|         4.8|        3.4|         1.6|        0.2| setosa|\n",
      "|         4.8|        3.0|         1.4|        0.1| setosa|\n",
      "|         4.3|        3.0|         1.1|        0.1| setosa|\n",
      "|         5.8|        4.0|         1.2|        0.2| setosa|\n",
      "|         5.7|        4.4|         1.5|        0.4| setosa|\n",
      "|         5.4|        3.9|         1.3|        0.4| setosa|\n",
      "|         5.1|        3.5|         1.4|        0.3| setosa|\n",
      "|         5.7|        3.8|         1.7|        0.3| setosa|\n",
      "|         5.1|        3.8|         1.5|        0.3| setosa|\n",
      "+------------+-----------+------------+-----------+-------+\n",
      "only showing top 20 rows\n",
      "\n"
     ]
    }
   ],
   "source": [
    "df.show()"
   ]
  },
  {
   "cell_type": "code",
   "execution_count": 17,
   "id": "e80e867e-c76d-4d29-a9d9-364f765295f8",
   "metadata": {},
   "outputs": [],
   "source": [
    "# assemble \n",
    "from pyspark.ml.feature import VectorAssembler\n",
    "assemble = VectorAssembler(inputCols=[\"sepal_length\",\"sepal_width\",\"petal_length\",\"petal_width\"]\n",
    "                                    , outputCol=\"features\")\n",
    "pred = assemble.transform(df)"
   ]
  },
  {
   "cell_type": "code",
   "execution_count": 18,
   "id": "63e5a2b3-b04b-4d0a-8eef-23e071cae131",
   "metadata": {},
   "outputs": [
    {
     "name": "stdout",
     "output_type": "stream",
     "text": [
      "+------------+-----------+------------+-----------+-------+-----------------+\n",
      "|sepal_length|sepal_width|petal_length|petal_width|species|         features|\n",
      "+------------+-----------+------------+-----------+-------+-----------------+\n",
      "|         5.1|        3.5|         1.4|        0.2| setosa|[5.1,3.5,1.4,0.2]|\n",
      "|         4.9|        3.0|         1.4|        0.2| setosa|[4.9,3.0,1.4,0.2]|\n",
      "|         4.7|        3.2|         1.3|        0.2| setosa|[4.7,3.2,1.3,0.2]|\n",
      "|         4.6|        3.1|         1.5|        0.2| setosa|[4.6,3.1,1.5,0.2]|\n",
      "|         5.0|        3.6|         1.4|        0.2| setosa|[5.0,3.6,1.4,0.2]|\n",
      "|         5.4|        3.9|         1.7|        0.4| setosa|[5.4,3.9,1.7,0.4]|\n",
      "|         4.6|        3.4|         1.4|        0.3| setosa|[4.6,3.4,1.4,0.3]|\n",
      "|         5.0|        3.4|         1.5|        0.2| setosa|[5.0,3.4,1.5,0.2]|\n",
      "|         4.4|        2.9|         1.4|        0.2| setosa|[4.4,2.9,1.4,0.2]|\n",
      "|         4.9|        3.1|         1.5|        0.1| setosa|[4.9,3.1,1.5,0.1]|\n",
      "|         5.4|        3.7|         1.5|        0.2| setosa|[5.4,3.7,1.5,0.2]|\n",
      "|         4.8|        3.4|         1.6|        0.2| setosa|[4.8,3.4,1.6,0.2]|\n",
      "|         4.8|        3.0|         1.4|        0.1| setosa|[4.8,3.0,1.4,0.1]|\n",
      "|         4.3|        3.0|         1.1|        0.1| setosa|[4.3,3.0,1.1,0.1]|\n",
      "|         5.8|        4.0|         1.2|        0.2| setosa|[5.8,4.0,1.2,0.2]|\n",
      "|         5.7|        4.4|         1.5|        0.4| setosa|[5.7,4.4,1.5,0.4]|\n",
      "|         5.4|        3.9|         1.3|        0.4| setosa|[5.4,3.9,1.3,0.4]|\n",
      "|         5.1|        3.5|         1.4|        0.3| setosa|[5.1,3.5,1.4,0.3]|\n",
      "|         5.7|        3.8|         1.7|        0.3| setosa|[5.7,3.8,1.7,0.3]|\n",
      "|         5.1|        3.8|         1.5|        0.3| setosa|[5.1,3.8,1.5,0.3]|\n",
      "+------------+-----------+------------+-----------+-------+-----------------+\n",
      "only showing top 20 rows\n",
      "\n"
     ]
    }
   ],
   "source": [
    "pred.show()"
   ]
  },
  {
   "cell_type": "code",
   "execution_count": 19,
   "id": "2099de7f-d0a5-48fe-aba8-894e7f87425b",
   "metadata": {},
   "outputs": [],
   "source": [
    "from pyspark.ml.clustering import KMeans\n",
    "from pyspark.ml.evaluation import ClusteringEvaluator"
   ]
  },
  {
   "cell_type": "code",
   "execution_count": 22,
   "id": "a1612c51-ee86-4ce0-ac43-8bf7fb2f2775",
   "metadata": {},
   "outputs": [
    {
     "name": "stdout",
     "output_type": "stream",
     "text": [
      "k=2\n",
      "シルエット係数=0.8501515983265806\n",
      "k=3\n",
      "シルエット係数=0.7354567373091194\n",
      "k=4\n",
      "シルエット係数=0.6720731409257744\n",
      "k=5\n",
      "シルエット係数=0.6155691231448028\n",
      "k=6\n",
      "シルエット係数=0.5517166229578094\n"
     ]
    }
   ],
   "source": [
    "for k in range(2, 7):\n",
    "    kmeans = KMeans().setK(k).setSeed(1)\n",
    "    model = kmeans.fit(pred)\n",
    "    prediction = model.transform(pred)\n",
    "    evaluator = ClusteringEvaluator()\n",
    "    sil = evaluator.evaluate(prediction)\n",
    "    print(\"k={}\".format(k))\n",
    "    print(\"シルエット係数={}\".format(sil))"
   ]
  },
  {
   "cell_type": "code",
   "execution_count": 24,
   "id": "7df00083-b174-4968-8ea1-a938f3b88406",
   "metadata": {},
   "outputs": [],
   "source": [
    "# k=3の場合\n",
    "kmeans = KMeans().setK(3).setSeed(1)\n",
    "model = kmeans.fit(pred)\n",
    "prediction = model.transform(pred)"
   ]
  },
  {
   "cell_type": "code",
   "execution_count": 25,
   "id": "d7137322-e0bf-43c7-9a90-272260763fa9",
   "metadata": {},
   "outputs": [
    {
     "name": "stdout",
     "output_type": "stream",
     "text": [
      "+------------+-----------+------------+-----------+-------+-----------------+----------+\n",
      "|sepal_length|sepal_width|petal_length|petal_width|species|         features|prediction|\n",
      "+------------+-----------+------------+-----------+-------+-----------------+----------+\n",
      "|         5.1|        3.5|         1.4|        0.2| setosa|[5.1,3.5,1.4,0.2]|         1|\n",
      "|         4.9|        3.0|         1.4|        0.2| setosa|[4.9,3.0,1.4,0.2]|         1|\n",
      "|         4.7|        3.2|         1.3|        0.2| setosa|[4.7,3.2,1.3,0.2]|         1|\n",
      "|         4.6|        3.1|         1.5|        0.2| setosa|[4.6,3.1,1.5,0.2]|         1|\n",
      "|         5.0|        3.6|         1.4|        0.2| setosa|[5.0,3.6,1.4,0.2]|         1|\n",
      "|         5.4|        3.9|         1.7|        0.4| setosa|[5.4,3.9,1.7,0.4]|         1|\n",
      "|         4.6|        3.4|         1.4|        0.3| setosa|[4.6,3.4,1.4,0.3]|         1|\n",
      "|         5.0|        3.4|         1.5|        0.2| setosa|[5.0,3.4,1.5,0.2]|         1|\n",
      "|         4.4|        2.9|         1.4|        0.2| setosa|[4.4,2.9,1.4,0.2]|         1|\n",
      "|         4.9|        3.1|         1.5|        0.1| setosa|[4.9,3.1,1.5,0.1]|         1|\n",
      "|         5.4|        3.7|         1.5|        0.2| setosa|[5.4,3.7,1.5,0.2]|         1|\n",
      "|         4.8|        3.4|         1.6|        0.2| setosa|[4.8,3.4,1.6,0.2]|         1|\n",
      "|         4.8|        3.0|         1.4|        0.1| setosa|[4.8,3.0,1.4,0.1]|         1|\n",
      "|         4.3|        3.0|         1.1|        0.1| setosa|[4.3,3.0,1.1,0.1]|         1|\n",
      "|         5.8|        4.0|         1.2|        0.2| setosa|[5.8,4.0,1.2,0.2]|         1|\n",
      "|         5.7|        4.4|         1.5|        0.4| setosa|[5.7,4.4,1.5,0.4]|         1|\n",
      "|         5.4|        3.9|         1.3|        0.4| setosa|[5.4,3.9,1.3,0.4]|         1|\n",
      "|         5.1|        3.5|         1.4|        0.3| setosa|[5.1,3.5,1.4,0.3]|         1|\n",
      "|         5.7|        3.8|         1.7|        0.3| setosa|[5.7,3.8,1.7,0.3]|         1|\n",
      "|         5.1|        3.8|         1.5|        0.3| setosa|[5.1,3.8,1.5,0.3]|         1|\n",
      "+------------+-----------+------------+-----------+-------+-----------------+----------+\n",
      "only showing top 20 rows\n",
      "\n"
     ]
    }
   ],
   "source": [
    "prediction.show()"
   ]
  },
  {
   "cell_type": "code",
   "execution_count": 26,
   "id": "fa3d2cfb-cbb6-4973-a64b-e0c9e58067a9",
   "metadata": {},
   "outputs": [
    {
     "name": "stdout",
     "output_type": "stream",
     "text": [
      "+----------+-----+\n",
      "|prediction|count|\n",
      "+----------+-----+\n",
      "|         1|   50|\n",
      "|         2|   38|\n",
      "|         0|   62|\n",
      "+----------+-----+\n",
      "\n"
     ]
    }
   ],
   "source": [
    "prediction.groupBy(\"prediction\").count().show()"
   ]
  }
 ],
 "metadata": {
  "kernelspec": {
   "display_name": "Python 3 (ipykernel)",
   "language": "python",
   "name": "python3"
  },
  "language_info": {
   "codemirror_mode": {
    "name": "ipython",
    "version": 3
   },
   "file_extension": ".py",
   "mimetype": "text/x-python",
   "name": "python",
   "nbconvert_exporter": "python",
   "pygments_lexer": "ipython3",
   "version": "3.10.6"
  }
 },
 "nbformat": 4,
 "nbformat_minor": 5
}
