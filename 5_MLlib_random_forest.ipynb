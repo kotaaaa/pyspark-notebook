{
 "cells": [
  {
   "cell_type": "code",
   "execution_count": 2,
   "id": "9f072499-4cc9-489e-b321-469314457af8",
   "metadata": {},
   "outputs": [],
   "source": [
    "# ランダムフォレストによる分類予測\n",
    "# - bank-fullの列（定期預金を申し込んだか否か）について分類予測する\n",
    "# - 特徴量は簡単のため、数値の列と文字列の\"default\"列のみ使用する\n",
    "# - パイプラインは使わないでやってみる"
   ]
  },
  {
   "cell_type": "code",
   "execution_count": 3,
   "id": "9dbab40d-476c-4b3f-a305-8ad5c5d4d035",
   "metadata": {},
   "outputs": [],
   "source": [
    "import pandas as pd\n",
    "import numpy as np"
   ]
  },
  {
   "cell_type": "code",
   "execution_count": 6,
   "id": "40227b51-54d8-4d04-a1ca-dd91bad3cf36",
   "metadata": {},
   "outputs": [],
   "source": [
    "from pyspark.sql import SparkSession\n",
    "spark = SparkSession.builder.master(\"local\").appName(\"random_forest\").getOrCreate()"
   ]
  },
  {
   "cell_type": "code",
   "execution_count": 7,
   "id": "71af0ff1-ffb2-420e-82e6-6eae59162cec",
   "metadata": {},
   "outputs": [
    {
     "name": "stdout",
     "output_type": "stream",
     "text": [
      "+---+------------+--------+---------+-------+-------+-------+----+-------+---+-----+--------+--------+-----+--------+--------+---+\n",
      "|age|         job| marital|education|default|balance|housing|loan|contact|day|month|duration|campaign|pdays|previous|poutcome|  y|\n",
      "+---+------------+--------+---------+-------+-------+-------+----+-------+---+-----+--------+--------+-----+--------+--------+---+\n",
      "| 58|  management| married| tertiary|     no|   2143|    yes|  no|unknown|  5|  may|     261|       1|   -1|       0| unknown| no|\n",
      "| 44|  technician|  single|secondary|     no|     29|    yes|  no|unknown|  5|  may|     151|       1|   -1|       0| unknown| no|\n",
      "| 33|entrepreneur| married|secondary|     no|      2|    yes| yes|unknown|  5|  may|      76|       1|   -1|       0| unknown| no|\n",
      "| 47| blue-collar| married|  unknown|     no|   1506|    yes|  no|unknown|  5|  may|      92|       1|   -1|       0| unknown| no|\n",
      "| 33|     unknown|  single|  unknown|     no|      1|     no|  no|unknown|  5|  may|     198|       1|   -1|       0| unknown| no|\n",
      "| 35|  management| married| tertiary|     no|    231|    yes|  no|unknown|  5|  may|     139|       1|   -1|       0| unknown| no|\n",
      "| 28|  management|  single| tertiary|     no|    447|    yes| yes|unknown|  5|  may|     217|       1|   -1|       0| unknown| no|\n",
      "| 42|entrepreneur|divorced| tertiary|    yes|      2|    yes|  no|unknown|  5|  may|     380|       1|   -1|       0| unknown| no|\n",
      "| 58|     retired| married|  primary|     no|    121|    yes|  no|unknown|  5|  may|      50|       1|   -1|       0| unknown| no|\n",
      "| 43|  technician|  single|secondary|     no|    593|    yes|  no|unknown|  5|  may|      55|       1|   -1|       0| unknown| no|\n",
      "| 41|      admin.|divorced|secondary|     no|    270|    yes|  no|unknown|  5|  may|     222|       1|   -1|       0| unknown| no|\n",
      "| 29|      admin.|  single|secondary|     no|    390|    yes|  no|unknown|  5|  may|     137|       1|   -1|       0| unknown| no|\n",
      "| 53|  technician| married|secondary|     no|      6|    yes|  no|unknown|  5|  may|     517|       1|   -1|       0| unknown| no|\n",
      "| 58|  technician| married|  unknown|     no|     71|    yes|  no|unknown|  5|  may|      71|       1|   -1|       0| unknown| no|\n",
      "| 57|    services| married|secondary|     no|    162|    yes|  no|unknown|  5|  may|     174|       1|   -1|       0| unknown| no|\n",
      "| 51|     retired| married|  primary|     no|    229|    yes|  no|unknown|  5|  may|     353|       1|   -1|       0| unknown| no|\n",
      "| 45|      admin.|  single|  unknown|     no|     13|    yes|  no|unknown|  5|  may|      98|       1|   -1|       0| unknown| no|\n",
      "| 57| blue-collar| married|  primary|     no|     52|    yes|  no|unknown|  5|  may|      38|       1|   -1|       0| unknown| no|\n",
      "| 60|     retired| married|  primary|     no|     60|    yes|  no|unknown|  5|  may|     219|       1|   -1|       0| unknown| no|\n",
      "| 33|    services| married|secondary|     no|      0|    yes|  no|unknown|  5|  may|      54|       1|   -1|       0| unknown| no|\n",
      "+---+------------+--------+---------+-------+-------+-------+----+-------+---+-----+--------+--------+-----+--------+--------+---+\n",
      "only showing top 20 rows\n",
      "\n"
     ]
    }
   ],
   "source": [
    "filename = \"./data/bank/bank-full.csv\"\n",
    "data = spark.read.csv(filename, header=True, inferSchema=True, sep=\";\")\n",
    "data.show()"
   ]
  },
  {
   "cell_type": "code",
   "execution_count": 9,
   "id": "aba544d5-071c-4ec6-aef7-515b7649e324",
   "metadata": {},
   "outputs": [],
   "source": [
    "# string -> index\n",
    "from pyspark.ml.feature import StringIndexer\n",
    "default_index = StringIndexer(inputCol=\"default\", outputCol=\"default_index\")\n",
    "data1 = default_index.fit(data).transform(data)"
   ]
  },
  {
   "cell_type": "code",
   "execution_count": 10,
   "id": "b04f6909-df61-4f8d-b5be-a10fd17ec1d4",
   "metadata": {},
   "outputs": [
    {
     "name": "stdout",
     "output_type": "stream",
     "text": [
      "+---+------------+--------+---------+-------+-------+-------+----+-------+---+-----+--------+--------+-----+--------+--------+---+-------------+\n",
      "|age|         job| marital|education|default|balance|housing|loan|contact|day|month|duration|campaign|pdays|previous|poutcome|  y|default_index|\n",
      "+---+------------+--------+---------+-------+-------+-------+----+-------+---+-----+--------+--------+-----+--------+--------+---+-------------+\n",
      "| 58|  management| married| tertiary|     no|   2143|    yes|  no|unknown|  5|  may|     261|       1|   -1|       0| unknown| no|          0.0|\n",
      "| 44|  technician|  single|secondary|     no|     29|    yes|  no|unknown|  5|  may|     151|       1|   -1|       0| unknown| no|          0.0|\n",
      "| 33|entrepreneur| married|secondary|     no|      2|    yes| yes|unknown|  5|  may|      76|       1|   -1|       0| unknown| no|          0.0|\n",
      "| 47| blue-collar| married|  unknown|     no|   1506|    yes|  no|unknown|  5|  may|      92|       1|   -1|       0| unknown| no|          0.0|\n",
      "| 33|     unknown|  single|  unknown|     no|      1|     no|  no|unknown|  5|  may|     198|       1|   -1|       0| unknown| no|          0.0|\n",
      "| 35|  management| married| tertiary|     no|    231|    yes|  no|unknown|  5|  may|     139|       1|   -1|       0| unknown| no|          0.0|\n",
      "| 28|  management|  single| tertiary|     no|    447|    yes| yes|unknown|  5|  may|     217|       1|   -1|       0| unknown| no|          0.0|\n",
      "| 42|entrepreneur|divorced| tertiary|    yes|      2|    yes|  no|unknown|  5|  may|     380|       1|   -1|       0| unknown| no|          1.0|\n",
      "| 58|     retired| married|  primary|     no|    121|    yes|  no|unknown|  5|  may|      50|       1|   -1|       0| unknown| no|          0.0|\n",
      "| 43|  technician|  single|secondary|     no|    593|    yes|  no|unknown|  5|  may|      55|       1|   -1|       0| unknown| no|          0.0|\n",
      "| 41|      admin.|divorced|secondary|     no|    270|    yes|  no|unknown|  5|  may|     222|       1|   -1|       0| unknown| no|          0.0|\n",
      "| 29|      admin.|  single|secondary|     no|    390|    yes|  no|unknown|  5|  may|     137|       1|   -1|       0| unknown| no|          0.0|\n",
      "| 53|  technician| married|secondary|     no|      6|    yes|  no|unknown|  5|  may|     517|       1|   -1|       0| unknown| no|          0.0|\n",
      "| 58|  technician| married|  unknown|     no|     71|    yes|  no|unknown|  5|  may|      71|       1|   -1|       0| unknown| no|          0.0|\n",
      "| 57|    services| married|secondary|     no|    162|    yes|  no|unknown|  5|  may|     174|       1|   -1|       0| unknown| no|          0.0|\n",
      "| 51|     retired| married|  primary|     no|    229|    yes|  no|unknown|  5|  may|     353|       1|   -1|       0| unknown| no|          0.0|\n",
      "| 45|      admin.|  single|  unknown|     no|     13|    yes|  no|unknown|  5|  may|      98|       1|   -1|       0| unknown| no|          0.0|\n",
      "| 57| blue-collar| married|  primary|     no|     52|    yes|  no|unknown|  5|  may|      38|       1|   -1|       0| unknown| no|          0.0|\n",
      "| 60|     retired| married|  primary|     no|     60|    yes|  no|unknown|  5|  may|     219|       1|   -1|       0| unknown| no|          0.0|\n",
      "| 33|    services| married|secondary|     no|      0|    yes|  no|unknown|  5|  may|      54|       1|   -1|       0| unknown| no|          0.0|\n",
      "+---+------------+--------+---------+-------+-------+-------+----+-------+---+-----+--------+--------+-----+--------+--------+---+-------------+\n",
      "only showing top 20 rows\n",
      "\n"
     ]
    }
   ],
   "source": [
    "data1.show()"
   ]
  },
  {
   "cell_type": "code",
   "execution_count": 11,
   "id": "60e8fc81-0b09-4639-9dc5-3bd6ee44a3f2",
   "metadata": {},
   "outputs": [
    {
     "name": "stdout",
     "output_type": "stream",
     "text": [
      "+---+------------+--------+---------+-------+-------+-------+----+-------+---+-----+--------+--------+-----+--------+--------+---+-------------+---+\n",
      "|age|         job| marital|education|default|balance|housing|loan|contact|day|month|duration|campaign|pdays|previous|poutcome|  y|default_index| y1|\n",
      "+---+------------+--------+---------+-------+-------+-------+----+-------+---+-----+--------+--------+-----+--------+--------+---+-------------+---+\n",
      "| 58|  management| married| tertiary|     no|   2143|    yes|  no|unknown|  5|  may|     261|       1|   -1|       0| unknown| no|          0.0|0.0|\n",
      "| 44|  technician|  single|secondary|     no|     29|    yes|  no|unknown|  5|  may|     151|       1|   -1|       0| unknown| no|          0.0|0.0|\n",
      "| 33|entrepreneur| married|secondary|     no|      2|    yes| yes|unknown|  5|  may|      76|       1|   -1|       0| unknown| no|          0.0|0.0|\n",
      "| 47| blue-collar| married|  unknown|     no|   1506|    yes|  no|unknown|  5|  may|      92|       1|   -1|       0| unknown| no|          0.0|0.0|\n",
      "| 33|     unknown|  single|  unknown|     no|      1|     no|  no|unknown|  5|  may|     198|       1|   -1|       0| unknown| no|          0.0|0.0|\n",
      "| 35|  management| married| tertiary|     no|    231|    yes|  no|unknown|  5|  may|     139|       1|   -1|       0| unknown| no|          0.0|0.0|\n",
      "| 28|  management|  single| tertiary|     no|    447|    yes| yes|unknown|  5|  may|     217|       1|   -1|       0| unknown| no|          0.0|0.0|\n",
      "| 42|entrepreneur|divorced| tertiary|    yes|      2|    yes|  no|unknown|  5|  may|     380|       1|   -1|       0| unknown| no|          1.0|0.0|\n",
      "| 58|     retired| married|  primary|     no|    121|    yes|  no|unknown|  5|  may|      50|       1|   -1|       0| unknown| no|          0.0|0.0|\n",
      "| 43|  technician|  single|secondary|     no|    593|    yes|  no|unknown|  5|  may|      55|       1|   -1|       0| unknown| no|          0.0|0.0|\n",
      "| 41|      admin.|divorced|secondary|     no|    270|    yes|  no|unknown|  5|  may|     222|       1|   -1|       0| unknown| no|          0.0|0.0|\n",
      "| 29|      admin.|  single|secondary|     no|    390|    yes|  no|unknown|  5|  may|     137|       1|   -1|       0| unknown| no|          0.0|0.0|\n",
      "| 53|  technician| married|secondary|     no|      6|    yes|  no|unknown|  5|  may|     517|       1|   -1|       0| unknown| no|          0.0|0.0|\n",
      "| 58|  technician| married|  unknown|     no|     71|    yes|  no|unknown|  5|  may|      71|       1|   -1|       0| unknown| no|          0.0|0.0|\n",
      "| 57|    services| married|secondary|     no|    162|    yes|  no|unknown|  5|  may|     174|       1|   -1|       0| unknown| no|          0.0|0.0|\n",
      "| 51|     retired| married|  primary|     no|    229|    yes|  no|unknown|  5|  may|     353|       1|   -1|       0| unknown| no|          0.0|0.0|\n",
      "| 45|      admin.|  single|  unknown|     no|     13|    yes|  no|unknown|  5|  may|      98|       1|   -1|       0| unknown| no|          0.0|0.0|\n",
      "| 57| blue-collar| married|  primary|     no|     52|    yes|  no|unknown|  5|  may|      38|       1|   -1|       0| unknown| no|          0.0|0.0|\n",
      "| 60|     retired| married|  primary|     no|     60|    yes|  no|unknown|  5|  may|     219|       1|   -1|       0| unknown| no|          0.0|0.0|\n",
      "| 33|    services| married|secondary|     no|      0|    yes|  no|unknown|  5|  may|      54|       1|   -1|       0| unknown| no|          0.0|0.0|\n",
      "+---+------------+--------+---------+-------+-------+-------+----+-------+---+-----+--------+--------+-----+--------+--------+---+-------------+---+\n",
      "only showing top 20 rows\n",
      "\n"
     ]
    }
   ],
   "source": [
    "# 目的変数\n",
    "from pyspark.sql.functions import lit, when, col\n",
    "data2 = data1.withColumn(\"y1\", when(col(\"y\") == \"yes\", lit(1.0)).otherwise(lit(0.0)))\n",
    "data2.show()"
   ]
  },
  {
   "cell_type": "code",
   "execution_count": 12,
   "id": "5d402031-e389-47dc-b4c1-0feaf5fbd7a0",
   "metadata": {},
   "outputs": [],
   "source": [
    "use_df = data2.select([\"age\",\"balance\",\"day\",\"duration\",\"campaign\",\"pdays\",\"previous\",\"default_index\",\"y1\"])"
   ]
  },
  {
   "cell_type": "code",
   "execution_count": 19,
   "id": "10aace73-9af6-4bc8-83dd-8fdcc18a863c",
   "metadata": {},
   "outputs": [],
   "source": [
    "target = \"y1\"\n",
    "features = use_df.columns"
   ]
  },
  {
   "cell_type": "code",
   "execution_count": 20,
   "id": "2b06ae3e-89f4-4042-a772-e146a4d7a07a",
   "metadata": {},
   "outputs": [],
   "source": [
    "features.remove(target)"
   ]
  },
  {
   "cell_type": "code",
   "execution_count": 23,
   "id": "c4a0e7b8-55e0-404f-8802-15a0f72b1baf",
   "metadata": {},
   "outputs": [],
   "source": [
    "# データ作成（assembler）\n",
    "from pyspark.ml.feature import VectorAssembler\n",
    "assemble = VectorAssembler(inputCols=features, outputCol=\"features\")\n",
    "df = assemble.transform(use_df)"
   ]
  },
  {
   "cell_type": "code",
   "execution_count": 24,
   "id": "2a704454-9e3d-48fa-90e1-cb3367755031",
   "metadata": {},
   "outputs": [
    {
     "name": "stdout",
     "output_type": "stream",
     "text": [
      "+---+-------+---+--------+--------+-----+--------+-------------+---+--------------------+\n",
      "|age|balance|day|duration|campaign|pdays|previous|default_index| y1|            features|\n",
      "+---+-------+---+--------+--------+-----+--------+-------------+---+--------------------+\n",
      "| 58|   2143|  5|     261|       1|   -1|       0|          0.0|0.0|[58.0,2143.0,5.0,...|\n",
      "| 44|     29|  5|     151|       1|   -1|       0|          0.0|0.0|[44.0,29.0,5.0,15...|\n",
      "| 33|      2|  5|      76|       1|   -1|       0|          0.0|0.0|[33.0,2.0,5.0,76....|\n",
      "| 47|   1506|  5|      92|       1|   -1|       0|          0.0|0.0|[47.0,1506.0,5.0,...|\n",
      "| 33|      1|  5|     198|       1|   -1|       0|          0.0|0.0|[33.0,1.0,5.0,198...|\n",
      "| 35|    231|  5|     139|       1|   -1|       0|          0.0|0.0|[35.0,231.0,5.0,1...|\n",
      "| 28|    447|  5|     217|       1|   -1|       0|          0.0|0.0|[28.0,447.0,5.0,2...|\n",
      "| 42|      2|  5|     380|       1|   -1|       0|          1.0|0.0|[42.0,2.0,5.0,380...|\n",
      "| 58|    121|  5|      50|       1|   -1|       0|          0.0|0.0|[58.0,121.0,5.0,5...|\n",
      "| 43|    593|  5|      55|       1|   -1|       0|          0.0|0.0|[43.0,593.0,5.0,5...|\n",
      "| 41|    270|  5|     222|       1|   -1|       0|          0.0|0.0|[41.0,270.0,5.0,2...|\n",
      "| 29|    390|  5|     137|       1|   -1|       0|          0.0|0.0|[29.0,390.0,5.0,1...|\n",
      "| 53|      6|  5|     517|       1|   -1|       0|          0.0|0.0|[53.0,6.0,5.0,517...|\n",
      "| 58|     71|  5|      71|       1|   -1|       0|          0.0|0.0|[58.0,71.0,5.0,71...|\n",
      "| 57|    162|  5|     174|       1|   -1|       0|          0.0|0.0|[57.0,162.0,5.0,1...|\n",
      "| 51|    229|  5|     353|       1|   -1|       0|          0.0|0.0|[51.0,229.0,5.0,3...|\n",
      "| 45|     13|  5|      98|       1|   -1|       0|          0.0|0.0|[45.0,13.0,5.0,98...|\n",
      "| 57|     52|  5|      38|       1|   -1|       0|          0.0|0.0|[57.0,52.0,5.0,38...|\n",
      "| 60|     60|  5|     219|       1|   -1|       0|          0.0|0.0|[60.0,60.0,5.0,21...|\n",
      "| 33|      0|  5|      54|       1|   -1|       0|          0.0|0.0|[33.0,0.0,5.0,54....|\n",
      "+---+-------+---+--------+--------+-----+--------+-------------+---+--------------------+\n",
      "only showing top 20 rows\n",
      "\n"
     ]
    }
   ],
   "source": [
    "df.show()"
   ]
  },
  {
   "cell_type": "code",
   "execution_count": 25,
   "id": "598923b2-3ff4-461c-911b-1ebd7fda930d",
   "metadata": {},
   "outputs": [],
   "source": [
    "train_df, test_df = df.randomSplit([0.7, 0.3], seed=123)"
   ]
  },
  {
   "cell_type": "code",
   "execution_count": 27,
   "id": "0fed563f-7a81-4112-84d3-f293c3dc3c72",
   "metadata": {},
   "outputs": [],
   "source": [
    "from pyspark.ml.classification import RandomForestClassifier\n",
    "clf = RandomForestClassifier(featuresCol=\"features\", labelCol=\"y1\",impurity=\"gini\")"
   ]
  },
  {
   "cell_type": "code",
   "execution_count": 28,
   "id": "0a9bf90f-ffbb-4162-9355-f97116096ee2",
   "metadata": {},
   "outputs": [],
   "source": [
    "clf_model = clf.fit(train_df)"
   ]
  },
  {
   "cell_type": "code",
   "execution_count": 31,
   "id": "f673b38d-5b1f-425e-b0bb-1da110cb11bf",
   "metadata": {},
   "outputs": [
    {
     "data": {
      "text/plain": [
       "[('age', 0.05468492518347591),\n",
       " ('balance', 0.015941996021164147),\n",
       " ('day', 0.023943388306990495),\n",
       " ('duration', 0.705334483576908),\n",
       " ('campaign', 0.00523519007041114),\n",
       " ('pdays', 0.14761491322751744),\n",
       " ('previous', 0.04677801819723579),\n",
       " ('default_index', 0.000467085416297051)]"
      ]
     },
     "execution_count": 31,
     "metadata": {},
     "output_type": "execute_result"
    }
   ],
   "source": [
    "list(zip(features, clf_model.featureImportances))"
   ]
  },
  {
   "cell_type": "code",
   "execution_count": 32,
   "id": "3500af53-2b7e-4694-9c12-1b19c7374049",
   "metadata": {},
   "outputs": [],
   "source": [
    "pred_train = clf_model.transform(train_df)"
   ]
  },
  {
   "cell_type": "code",
   "execution_count": 33,
   "id": "3f3b19e1-14a3-4fc1-b5ed-39f8cc1d8b03",
   "metadata": {},
   "outputs": [
    {
     "name": "stdout",
     "output_type": "stream",
     "text": [
      "+---+-------+---+--------+--------+-----+--------+-------------+---+--------------------+--------------------+--------------------+----------+\n",
      "|age|balance|day|duration|campaign|pdays|previous|default_index| y1|            features|       rawPrediction|         probability|prediction|\n",
      "+---+-------+---+--------+--------+-----+--------+-------------+---+--------------------+--------------------+--------------------+----------+\n",
      "| 18|      3| 25|     130|       2|   -1|       0|          0.0|1.0|[18.0,3.0,25.0,13...|[19.0637804871900...|[0.95318902435950...|       0.0|\n",
      "| 18|      5| 24|     143|       2|   -1|       0|          0.0|0.0|[18.0,5.0,24.0,14...|[19.0637804871900...|[0.95318902435950...|       0.0|\n",
      "| 18|    108|  8|     169|       1|   -1|       0|          0.0|1.0|[18.0,108.0,8.0,1...|[18.8377031211968...|[0.94188515605984...|       0.0|\n",
      "| 18|    108|  9|      92|       1|  183|       1|          0.0|1.0|[18.0,108.0,9.0,9...|[17.7684918024514...|[0.88842459012257...|       0.0|\n",
      "| 18|    108| 10|     167|       1|   -1|       0|          0.0|1.0|[18.0,108.0,10.0,...|[18.8377031211968...|[0.94188515605984...|       0.0|\n",
      "| 18|    348|  5|     443|       4|   -1|       0|          0.0|1.0|[18.0,348.0,5.0,4...|[18.9206261267833...|[0.94603130633916...|       0.0|\n",
      "| 18|    438|  1|     425|       1|   -1|       0|          0.0|0.0|[18.0,438.0,1.0,4...|[18.0507693026896...|[0.90253846513448...|       0.0|\n",
      "| 18|    608| 13|     210|       1|   93|       1|          0.0|1.0|[18.0,608.0,13.0,...|[12.2462861860274...|[0.61231430930137...|       0.0|\n",
      "| 18|   1944| 10|     122|       3|   -1|       0|          0.0|0.0|[18.0,1944.0,10.0...|[18.8813250803315...|[0.94406625401657...|       0.0|\n",
      "| 19|      4|  3|     114|       1|   -1|       0|          0.0|0.0|[19.0,4.0,3.0,114...|[18.9319738178143...|[0.94659869089071...|       0.0|\n",
      "| 19|     27|  5|      86|      12|   -1|       0|          0.0|0.0|[19.0,27.0,5.0,86...|[19.0637804871900...|[0.95318902435950...|       0.0|\n",
      "| 19|     55|  6|      89|       2|  193|       1|          0.0|0.0|[19.0,55.0,6.0,89...|[18.2433521276797...|[0.91216760638398...|       0.0|\n",
      "| 19|     56| 12|     246|       1|   -1|       0|          0.0|0.0|[19.0,56.0,12.0,2...|[18.8377031211968...|[0.94188515605984...|       0.0|\n",
      "| 19|     88|  8|     191|       1|   -1|       0|          0.0|0.0|[19.0,88.0,8.0,19...|[18.8377031211968...|[0.94188515605984...|       0.0|\n",
      "| 19|     96| 23|     106|       3|   -1|       0|          0.0|0.0|[19.0,96.0,23.0,1...|[18.9695097905725...|[0.94847548952862...|       0.0|\n",
      "| 19|    103| 10|     104|       2|   -1|       0|          0.0|1.0|[19.0,103.0,10.0,...|[18.9695097905725...|[0.94847548952862...|       0.0|\n",
      "| 19|    103| 15|      96|       2|   97|       2|          0.0|0.0|[19.0,103.0,15.0,...|[17.7684918024514...|[0.88842459012257...|       0.0|\n",
      "| 19|    108|  9|     273|       2|  182|       1|          0.0|1.0|[19.0,108.0,9.0,2...|[13.2205414652255...|[0.66102707326127...|       0.0|\n",
      "| 19|    108| 10|     168|       1|  182|       2|          0.0|1.0|[19.0,108.0,10.0,...|[15.6170597176771...|[0.78085298588385...|       0.0|\n",
      "| 19|    134| 27|     271|       2|   -1|       0|          0.0|1.0|[19.0,134.0,27.0,...|[18.9451653383758...|[0.94725826691879...|       0.0|\n",
      "+---+-------+---+--------+--------+-----+--------+-------------+---+--------------------+--------------------+--------------------+----------+\n",
      "only showing top 20 rows\n",
      "\n"
     ]
    }
   ],
   "source": [
    "pred_train.show()"
   ]
  },
  {
   "cell_type": "code",
   "execution_count": 35,
   "id": "87f65146-812c-4fde-8009-ffef8f8dc109",
   "metadata": {},
   "outputs": [
    {
     "data": {
      "text/plain": [
       "0.8320342770292489"
      ]
     },
     "execution_count": 35,
     "metadata": {},
     "output_type": "execute_result"
    }
   ],
   "source": [
    "from pyspark.ml.evaluation import BinaryClassificationEvaluator\n",
    "evaluator = BinaryClassificationEvaluator(labelCol=\"y1\")\n",
    "AUC = evaluator.evaluate(pred_train)\n",
    "AUC"
   ]
  },
  {
   "cell_type": "code",
   "execution_count": 36,
   "id": "d58bb55a-fca5-4483-98db-22c065333e21",
   "metadata": {},
   "outputs": [
    {
     "name": "stdout",
     "output_type": "stream",
     "text": [
      "+---+-------+---+--------+--------+-----+--------+-------------+---+--------------------+--------------------+--------------------+----------+\n",
      "|age|balance|day|duration|campaign|pdays|previous|default_index| y1|            features|       rawPrediction|         probability|prediction|\n",
      "+---+-------+---+--------+--------+-----+--------+-------------+---+--------------------+--------------------+--------------------+----------+\n",
      "| 18|     35| 21|     104|       2|   -1|       0|          0.0|0.0|[18.0,35.0,21.0,1...|[19.0637804871900...|[0.95318902435950...|       0.0|\n",
      "| 18|    156|  4|     298|       2|   82|       4|          0.0|0.0|[18.0,156.0,4.0,2...|[11.9395372316244...|[0.59697686158122...|       0.0|\n",
      "| 18|    608| 12|     267|       1|   -1|       0|          0.0|1.0|[18.0,608.0,12.0,...|[18.7628799709407...|[0.93814399854703...|       0.0|\n",
      "| 19|      0|  4|      72|       4|   -1|       0|          0.0|0.0|[19.0,0.0,4.0,72....|[19.0637804871900...|[0.95318902435950...|       0.0|\n",
      "| 19|      0| 11|     123|       3|   -1|       0|          0.0|0.0|[19.0,0.0,11.0,12...|[19.0637804871900...|[0.95318902435950...|       0.0|\n",
      "| 19|     60| 14|     253|       1|   -1|       0|          0.0|0.0|[19.0,60.0,14.0,2...|[18.8377031211968...|[0.94188515605984...|       0.0|\n",
      "| 19|    103| 18|     177|       2|   95|       4|          0.0|0.0|[19.0,103.0,18.0,...|[15.7325742291203...|[0.78662871145601...|       0.0|\n",
      "| 19|    291|  5|     291|       5|   -1|       0|          0.0|0.0|[19.0,291.0,5.0,2...|[18.9206261267833...|[0.94603130633916...|       0.0|\n",
      "| 19|    302| 16|     205|       1|   -1|       0|          0.0|1.0|[19.0,302.0,16.0,...|[18.7888194574076...|[0.93944097287038...|       0.0|\n",
      "| 19|    372|  8|     444|       3|   -1|       0|          0.0|1.0|[19.0,372.0,8.0,4...|[18.9206261267833...|[0.94603130633916...|       0.0|\n",
      "| 19|    394|  5|     327|       3|   -1|       0|          0.0|1.0|[19.0,394.0,5.0,3...|[18.9206261267833...|[0.94603130633916...|       0.0|\n",
      "| 19|    424| 30|     121|       3|  195|       2|          0.0|0.0|[19.0,424.0,30.0,...|[18.1767101352633...|[0.90883550676316...|       0.0|\n",
      "| 19|    527|  4|     154|       3|   -1|       0|          0.0|0.0|[19.0,527.0,4.0,1...|[18.8946866403164...|[0.94473433201582...|       0.0|\n",
      "| 19|    626| 15|     117|       1|   -1|       0|          0.0|0.0|[19.0,626.0,15.0,...|[18.7628799709407...|[0.93814399854703...|       0.0|\n",
      "| 19|   5368|  4|      77|       6|   -1|       0|          0.0|0.0|[19.0,5368.0,4.0,...|[18.8641236185749...|[0.94320618092874...|       0.0|\n",
      "| 20|   -322| 20|      73|       4|   -1|       0|          0.0|0.0|[20.0,-322.0,20.0...|[19.0637804871900...|[0.95318902435950...|       0.0|\n",
      "| 20|     67| 19|     387|       1|   -1|       0|          0.0|0.0|[20.0,67.0,19.0,3...|[18.8377031211968...|[0.94188515605984...|       0.0|\n",
      "| 20|     88| 21|     621|       1|  181|       4|          0.0|0.0|[20.0,88.0,21.0,6...|[10.9114308324213...|[0.54557154162106...|       0.0|\n",
      "| 20|    130|  4|      75|       3|   -1|       0|          0.0|0.0|[20.0,130.0,4.0,7...|[18.9451653383758...|[0.94725826691879...|       0.0|\n",
      "| 20|    130| 11|      88|       1|   99|       3|          0.0|0.0|[20.0,130.0,11.0,...|[17.6670133409937...|[0.88335066704968...|       0.0|\n",
      "+---+-------+---+--------+--------+-----+--------+-------------+---+--------------------+--------------------+--------------------+----------+\n",
      "only showing top 20 rows\n",
      "\n"
     ]
    }
   ],
   "source": [
    "pred_test = clf_model.transform(test_df)\n",
    "pred_test.show()"
   ]
  },
  {
   "cell_type": "code",
   "execution_count": 37,
   "id": "97d83742-646d-412a-ae76-fc29880f9e54",
   "metadata": {},
   "outputs": [
    {
     "data": {
      "text/plain": [
       "13676"
      ]
     },
     "execution_count": 37,
     "metadata": {},
     "output_type": "execute_result"
    }
   ],
   "source": [
    "pred_test.count()"
   ]
  },
  {
   "cell_type": "code",
   "execution_count": 38,
   "id": "888878ea-2ca6-4741-88d0-f7294f21d76b",
   "metadata": {},
   "outputs": [
    {
     "data": {
      "text/plain": [
       "0.8366810798035288"
      ]
     },
     "execution_count": 38,
     "metadata": {},
     "output_type": "execute_result"
    }
   ],
   "source": [
    "AUC = evaluator.evaluate(pred_test)\n",
    "AUC"
   ]
  }
 ],
 "metadata": {
  "kernelspec": {
   "display_name": "Python 3 (ipykernel)",
   "language": "python",
   "name": "python3"
  },
  "language_info": {
   "codemirror_mode": {
    "name": "ipython",
    "version": 3
   },
   "file_extension": ".py",
   "mimetype": "text/x-python",
   "name": "python",
   "nbconvert_exporter": "python",
   "pygments_lexer": "ipython3",
   "version": "3.10.6"
  }
 },
 "nbformat": 4,
 "nbformat_minor": 5
}
