{
 "cells": [
  {
   "cell_type": "code",
   "execution_count": 1,
   "id": "f7219897-14fa-423b-9b38-f2f8b7d5ab5e",
   "metadata": {},
   "outputs": [],
   "source": [
    "# ロジスティック回帰による分類予測\n",
    "# - bank-fully のy列（ていき預金を申し込んだか否か）について分類予測する\n",
    "# - 特徴量には簡単のため、数値の列と文字列の*default*列のみ使用する\n",
    "# - 数値の列は標準化を行う\n",
    "# - 文字列の列はインデックス化する\n",
    "# - 制度評価として混同行例とAUCを計算する"
   ]
  },
  {
   "cell_type": "code",
   "execution_count": 2,
   "id": "da67fb54-8f1f-4ee2-9c84-b7195fc70510",
   "metadata": {},
   "outputs": [],
   "source": [
    "import numpy as np \n",
    "import pandas as pd "
   ]
  },
  {
   "cell_type": "code",
   "execution_count": 3,
   "id": "b1275755-c139-4207-b758-1865d4edc6f3",
   "metadata": {},
   "outputs": [],
   "source": [
    "from pyspark.sql import SparkSession\n",
    "spark = SparkSession.builder.master(\"local\").appName(\"logistic_regression\").getOrCreate()"
   ]
  },
  {
   "cell_type": "code",
   "execution_count": 4,
   "id": "107fc60a-fcde-450d-8e30-3e99cfc96d65",
   "metadata": {},
   "outputs": [],
   "source": [
    "filename = \"./data/bank/bank-full.csv\"\n",
    "data = spark.read.csv(filename, header=True, inferSchema=True, sep=\";\")"
   ]
  },
  {
   "cell_type": "code",
   "execution_count": 6,
   "id": "312aaa9f-57f8-4c98-b02a-dc9c3c29768a",
   "metadata": {},
   "outputs": [
    {
     "data": {
      "text/plain": [
       "[('age', 'int'),\n",
       " ('job', 'string'),\n",
       " ('marital', 'string'),\n",
       " ('education', 'string'),\n",
       " ('default', 'string'),\n",
       " ('balance', 'int'),\n",
       " ('housing', 'string'),\n",
       " ('loan', 'string'),\n",
       " ('contact', 'string'),\n",
       " ('day', 'int'),\n",
       " ('month', 'string'),\n",
       " ('duration', 'int'),\n",
       " ('campaign', 'int'),\n",
       " ('pdays', 'int'),\n",
       " ('previous', 'int'),\n",
       " ('poutcome', 'string'),\n",
       " ('y', 'string')]"
      ]
     },
     "execution_count": 6,
     "metadata": {},
     "output_type": "execute_result"
    }
   ],
   "source": [
    "data.dtypes"
   ]
  },
  {
   "cell_type": "code",
   "execution_count": 10,
   "id": "26f9f03d-7c71-4036-a411-4bbac8db6ffe",
   "metadata": {},
   "outputs": [],
   "source": [
    "# 目的変数の作成 yes: 1, no:0\n",
    "from pyspark.sql.functions import lit, when, col\n",
    "data1 = data.withColumn(\"y1\", when(col(\"y\") == \"yes\", lit(1.0)).otherwise(lit(0.0)))"
   ]
  },
  {
   "cell_type": "code",
   "execution_count": 11,
   "id": "be39b36c-1848-4582-999e-0028f38f7403",
   "metadata": {},
   "outputs": [
    {
     "name": "stdout",
     "output_type": "stream",
     "text": [
      "+---+------------+--------+---------+-------+-------+-------+----+-------+---+-----+--------+--------+-----+--------+--------+---+---+\n",
      "|age|         job| marital|education|default|balance|housing|loan|contact|day|month|duration|campaign|pdays|previous|poutcome|  y| y1|\n",
      "+---+------------+--------+---------+-------+-------+-------+----+-------+---+-----+--------+--------+-----+--------+--------+---+---+\n",
      "| 58|  management| married| tertiary|     no|   2143|    yes|  no|unknown|  5|  may|     261|       1|   -1|       0| unknown| no|0.0|\n",
      "| 44|  technician|  single|secondary|     no|     29|    yes|  no|unknown|  5|  may|     151|       1|   -1|       0| unknown| no|0.0|\n",
      "| 33|entrepreneur| married|secondary|     no|      2|    yes| yes|unknown|  5|  may|      76|       1|   -1|       0| unknown| no|0.0|\n",
      "| 47| blue-collar| married|  unknown|     no|   1506|    yes|  no|unknown|  5|  may|      92|       1|   -1|       0| unknown| no|0.0|\n",
      "| 33|     unknown|  single|  unknown|     no|      1|     no|  no|unknown|  5|  may|     198|       1|   -1|       0| unknown| no|0.0|\n",
      "| 35|  management| married| tertiary|     no|    231|    yes|  no|unknown|  5|  may|     139|       1|   -1|       0| unknown| no|0.0|\n",
      "| 28|  management|  single| tertiary|     no|    447|    yes| yes|unknown|  5|  may|     217|       1|   -1|       0| unknown| no|0.0|\n",
      "| 42|entrepreneur|divorced| tertiary|    yes|      2|    yes|  no|unknown|  5|  may|     380|       1|   -1|       0| unknown| no|0.0|\n",
      "| 58|     retired| married|  primary|     no|    121|    yes|  no|unknown|  5|  may|      50|       1|   -1|       0| unknown| no|0.0|\n",
      "| 43|  technician|  single|secondary|     no|    593|    yes|  no|unknown|  5|  may|      55|       1|   -1|       0| unknown| no|0.0|\n",
      "| 41|      admin.|divorced|secondary|     no|    270|    yes|  no|unknown|  5|  may|     222|       1|   -1|       0| unknown| no|0.0|\n",
      "| 29|      admin.|  single|secondary|     no|    390|    yes|  no|unknown|  5|  may|     137|       1|   -1|       0| unknown| no|0.0|\n",
      "| 53|  technician| married|secondary|     no|      6|    yes|  no|unknown|  5|  may|     517|       1|   -1|       0| unknown| no|0.0|\n",
      "| 58|  technician| married|  unknown|     no|     71|    yes|  no|unknown|  5|  may|      71|       1|   -1|       0| unknown| no|0.0|\n",
      "| 57|    services| married|secondary|     no|    162|    yes|  no|unknown|  5|  may|     174|       1|   -1|       0| unknown| no|0.0|\n",
      "| 51|     retired| married|  primary|     no|    229|    yes|  no|unknown|  5|  may|     353|       1|   -1|       0| unknown| no|0.0|\n",
      "| 45|      admin.|  single|  unknown|     no|     13|    yes|  no|unknown|  5|  may|      98|       1|   -1|       0| unknown| no|0.0|\n",
      "| 57| blue-collar| married|  primary|     no|     52|    yes|  no|unknown|  5|  may|      38|       1|   -1|       0| unknown| no|0.0|\n",
      "| 60|     retired| married|  primary|     no|     60|    yes|  no|unknown|  5|  may|     219|       1|   -1|       0| unknown| no|0.0|\n",
      "| 33|    services| married|secondary|     no|      0|    yes|  no|unknown|  5|  may|      54|       1|   -1|       0| unknown| no|0.0|\n",
      "+---+------------+--------+---------+-------+-------+-------+----+-------+---+-----+--------+--------+-----+--------+--------+---+---+\n",
      "only showing top 20 rows\n",
      "\n"
     ]
    }
   ],
   "source": [
    "data1.show()"
   ]
  },
  {
   "cell_type": "code",
   "execution_count": 12,
   "id": "9aa7cff3-0f1d-4c64-97a6-dff8da889713",
   "metadata": {},
   "outputs": [],
   "source": [
    "# String の処理(default)\n",
    "from pyspark.ml.feature import StringIndexer\n",
    "default_index = StringIndexer(inputCol=\"default\", outputCol=\"default_index\")"
   ]
  },
  {
   "cell_type": "code",
   "execution_count": 13,
   "id": "f35dd40f-ba2d-49b4-b17d-777602a7ea4b",
   "metadata": {},
   "outputs": [],
   "source": [
    "# assemble\n",
    "from pyspark.ml.feature import VectorAssembler\n",
    "assemble = VectorAssembler(inputCols=[\"age\",\"balance\",\"duration\",\"campaign\",\"previous\", \"default_index\"]\n",
    "                          ,outputCol=\"features\")"
   ]
  },
  {
   "cell_type": "code",
   "execution_count": 15,
   "id": "33b52dbd-15bf-4dc4-9559-7e7ae019a7e2",
   "metadata": {},
   "outputs": [],
   "source": [
    "# 標準化\n",
    "from pyspark.ml.feature import StandardScaler\n",
    "scaler = StandardScaler(inputCol=\"features\",outputCol=\"scaled_faetures\")"
   ]
  },
  {
   "cell_type": "code",
   "execution_count": 16,
   "id": "6f8fe1af-5dcb-484a-b63a-14ba3d384e18",
   "metadata": {},
   "outputs": [],
   "source": [
    "# ロジスティック回帰\n",
    "from pyspark.ml.classification import LogisticRegression\n",
    "logistic_regression = LogisticRegression(featuresCol=\"scaled_faetures\", labelCol=\"y1\")"
   ]
  },
  {
   "cell_type": "code",
   "execution_count": 18,
   "id": "c55b6f85-d308-4b2c-bbb9-daeae28aec60",
   "metadata": {},
   "outputs": [],
   "source": [
    "# パイプラインの登録\n",
    "from pyspark.ml import Pipeline\n",
    "pipeline = Pipeline(stages=[default_index, assemble, scaler, logistic_regression])"
   ]
  },
  {
   "cell_type": "code",
   "execution_count": 19,
   "id": "7a627838-b543-4103-872f-9ffa0aaf9a28",
   "metadata": {},
   "outputs": [],
   "source": [
    "df = data1.select(\"age\",\"balance\",\"duration\",\"campaign\",\"previous\", \"default\",\"y\",\"y1\")"
   ]
  },
  {
   "cell_type": "code",
   "execution_count": 21,
   "id": "4e74191b-a21f-4df4-803e-513df047d701",
   "metadata": {},
   "outputs": [],
   "source": [
    "# 訓練データとテストデータを分ける\n",
    "train_df, test_df = df.randomSplit([0.7, 0.3],seed=1234)"
   ]
  },
  {
   "cell_type": "code",
   "execution_count": 22,
   "id": "dbfcf9be-da09-4b4b-8bf0-951ad8b0b0ca",
   "metadata": {},
   "outputs": [],
   "source": [
    "# 訓練データによるモデリング\n",
    "fit_model = pipeline.fit(train_df)"
   ]
  },
  {
   "cell_type": "code",
   "execution_count": 23,
   "id": "79d35115-ab5e-426c-a3b4-7d61c31c2641",
   "metadata": {},
   "outputs": [
    {
     "data": {
      "text/plain": [
       "DenseVector([0.0461, 0.1101, 0.9227, -0.4444, 0.2843, -0.0603])"
      ]
     },
     "execution_count": 23,
     "metadata": {},
     "output_type": "execute_result"
    }
   ],
   "source": [
    "# モデリング結果の確認\n",
    "fit_model.stages[3].coefficients"
   ]
  },
  {
   "cell_type": "code",
   "execution_count": 24,
   "id": "5249e1be-d60a-429c-8b22-f95ea2dae5bf",
   "metadata": {},
   "outputs": [
    {
     "data": {
      "text/plain": [
       "-3.2359670441544646"
      ]
     },
     "execution_count": 24,
     "metadata": {},
     "output_type": "execute_result"
    }
   ],
   "source": [
    "fit_model.stages[3].intercept"
   ]
  },
  {
   "cell_type": "code",
   "execution_count": 26,
   "id": "04177599-74be-4903-9ee5-6a808459500c",
   "metadata": {},
   "outputs": [],
   "source": [
    "# 訓練データを使って推論\n",
    "pred_train = fit_model.transform(train_df)"
   ]
  },
  {
   "cell_type": "code",
   "execution_count": 27,
   "id": "65faf23b-7121-48af-aabe-2727b438b512",
   "metadata": {},
   "outputs": [
    {
     "name": "stdout",
     "output_type": "stream",
     "text": [
      "+---+-------+--------+--------+--------+-------+---+---+-------------+--------------------+--------------------+--------------------+--------------------+----------+\n",
      "|age|balance|duration|campaign|previous|default|  y| y1|default_index|            features|     scaled_faetures|       rawPrediction|         probability|prediction|\n",
      "+---+-------+--------+--------+--------+-------+---+---+-------------+--------------------+--------------------+--------------------+--------------------+----------+\n",
      "| 18|     35|     104|       2|       0|     no| no|0.0|          0.0|[18.0,35.0,104.0,...|[1.69579509967235...|[3.06350348098030...|[0.95536194323606...|       0.0|\n",
      "| 18|    108|      92|       1|       1|     no|yes|1.0|          0.0|[18.0,108.0,92.0,...|[1.69579509967235...|[2.81052152711537...|[0.94324174651528...|       0.0|\n",
      "| 18|    108|     169|       1|       0|     no|yes|1.0|          0.0|[18.0,108.0,169.0...|[1.69579509967235...|[2.68263210486711...|[0.93599399206992...|       0.0|\n",
      "| 18|    156|     298|       2|       4|     no| no|0.0|          0.0|[18.0,156.0,298.0...|[1.69579509967235...|[1.74813118391871...|[0.85171693457435...|       0.0|\n",
      "| 18|    348|     443|       4|       0|     no|yes|1.0|          0.0|[18.0,348.0,443.0...|[1.69579509967235...|[2.10596186036869...|[0.89148129105415...|       0.0|\n",
      "| 18|    438|     425|       1|       0|     no| no|0.0|          0.0|[18.0,438.0,425.0...|[1.69579509967235...|[1.74131428987996...|[0.85085392777459...|       0.0|\n",
      "| 18|    608|     210|       1|       1|     no|yes|1.0|          0.0|[18.0,608.0,210.0...|[1.69579509967235...|[2.36411177360818...|[0.91404938963609...|       0.0|\n",
      "| 18|    608|     267|       1|       0|     no|yes|1.0|          0.0|[18.0,608.0,267.0...|[1.69579509967235...|[2.30883490218773...|[0.90960610335261...|       0.0|\n",
      "| 18|   1944|     122|       3|       0|     no| no|0.0|          0.0|[18.0,1944.0,122....|[1.69579509967235...|[3.07169780199595...|[0.95571009312995...|       0.0|\n",
      "| 19|      0|      72|       4|       0|     no| no|0.0|          0.0|[19.0,0.0,72.0,4....|[1.79000593854304...|[3.46110940872370...|[0.96956072547184...|       0.0|\n",
      "| 19|      0|     123|       3|       0|     no| no|0.0|          0.0|[19.0,0.0,123.0,3...|[1.79000593854304...|[3.13369419091894...|[0.95826139800661...|       0.0|\n",
      "| 19|      4|     114|       1|       0|     no| no|0.0|          0.0|[19.0,4.0,114.0,1...|[1.79000593854304...|[2.88171944677475...|[0.94693533018398...|       0.0|\n",
      "| 19|     27|      86|      12|       0|     no| no|0.0|          0.0|[19.0,27.0,86.0,1...|[1.79000593854304...|[4.54733456069946...|[0.98951567747997...|       0.0|\n",
      "| 19|     55|      89|       2|       1|     no| no|0.0|          0.0|[19.0,55.0,89.0,2...|[1.79000593854304...|[2.96123388829502...|[0.95079175571351...|       0.0|\n",
      "| 19|     56|     246|       1|       0|     no| no|0.0|          0.0|[19.0,56.0,246.0,...|[1.79000593854304...|[2.40060505813445...|[0.91687343057867...|       0.0|\n",
      "| 19|     60|     253|       1|       0|     no| no|0.0|          0.0|[19.0,60.0,253.0,...|[1.79000593854304...|[2.37504669971574...|[0.91490459083152...|       0.0|\n",
      "| 19|     88|     191|       1|       0|     no| no|0.0|          0.0|[19.0,88.0,191.0,...|[1.79000593854304...|[2.59913784787902...|[0.93080607239677...|       0.0|\n",
      "| 19|     96|     106|       3|       0|     no| no|0.0|          0.0|[19.0,96.0,106.0,...|[1.79000593854304...|[3.19195968402693...|[0.96053058225962...|       0.0|\n",
      "| 19|    103|     104|       2|       0|     no|yes|1.0|          0.0|[19.0,103.0,104.0...|[1.79000593854304...|[3.05671578606513...|[0.95507158223834...|       0.0|\n",
      "| 19|    103|     177|       2|       4|     no| no|0.0|          0.0|[19.0,103.0,177.0...|[1.79000593854304...|[2.18500438178853...|[0.89889479382008...|       0.0|\n",
      "+---+-------+--------+--------+--------+-------+---+---+-------------+--------------------+--------------------+--------------------+--------------------+----------+\n",
      "only showing top 20 rows\n",
      "\n"
     ]
    }
   ],
   "source": [
    "pred_train.show()"
   ]
  },
  {
   "cell_type": "code",
   "execution_count": 31,
   "id": "d187d511-b719-4527-a4d9-b173322eea45",
   "metadata": {},
   "outputs": [
    {
     "name": "stdout",
     "output_type": "stream",
     "text": [
      "+----------------------------------------+-----------------------------------------+\n",
      "|rawPrediction                           |probability                              |\n",
      "+----------------------------------------+-----------------------------------------+\n",
      "|[3.063503480980308,-3.063503480980308]  |[0.9553619432360639,0.04463805676393606] |\n",
      "|[2.8105215271153705,-2.8105215271153705]|[0.9432417465152872,0.05675825348471275] |\n",
      "|[2.6826321048671122,-2.6826321048671122]|[0.9359939920699278,0.06400600793007216] |\n",
      "|[1.7481311839187115,-1.7481311839187115]|[0.8517169345743544,0.14828306542564562] |\n",
      "|[2.105961860368693,-2.105961860368693]  |[0.8914812910541506,0.10851870894584936] |\n",
      "|[1.741314289879969,-1.741314289879969]  |[0.8508539277745946,0.14914607222540543] |\n",
      "|[2.3641117736081894,-2.3641117736081894]|[0.9140493896360997,0.08595061036390028] |\n",
      "|[2.308834902187733,-2.308834902187733]  |[0.90960610335261,0.09039389664738995]   |\n",
      "|[3.071697801995959,-3.071697801995959]  |[0.9557100931299582,0.04428990687004175] |\n",
      "|[3.4611094087237038,-3.4611094087237038]|[0.9695607254718406,0.03043927452815942] |\n",
      "|[3.1336941909189493,-3.1336941909189493]|[0.9582613980066161,0.04173860199338386] |\n",
      "|[2.8817194467747558,-2.8817194467747558]|[0.9469353301839817,0.05306466981601832] |\n",
      "|[4.547334560699468,-4.547334560699468]  |[0.9895156774799746,0.010484322520025402]|\n",
      "|[2.9612338882950273,-2.9612338882950273]|[0.9507917557135181,0.04920824428648185] |\n",
      "|[2.4006050581344556,-2.4006050581344556]|[0.9168734305786728,0.08312656942132723] |\n",
      "|[2.37504669971574,-2.37504669971574]    |[0.9149045908315255,0.08509540916847447] |\n",
      "|[2.5991378478790295,-2.5991378478790295]|[0.9308060723967717,0.06919392760322829] |\n",
      "|[3.191959684026936,-3.191959684026936]  |[0.9605305822596246,0.03946941774037538] |\n",
      "|[3.0567157860651326,-3.0567157860651326]|[0.9550715822383453,0.04492841776165468] |\n",
      "|[2.1850043817885396,-2.1850043817885396]|[0.8988947938200816,0.10110520617991836] |\n",
      "+----------------------------------------+-----------------------------------------+\n",
      "only showing top 20 rows\n",
      "\n"
     ]
    }
   ],
   "source": [
    "pred_train.select(\"rawPrediction\", \"probability\").show(truncate=False)"
   ]
  },
  {
   "cell_type": "code",
   "execution_count": 33,
   "id": "5a1a58a8-8a61-44a7-9a73-4f2834c7c5ba",
   "metadata": {},
   "outputs": [
    {
     "name": "stdout",
     "output_type": "stream",
     "text": [
      "[0.95536194 0.04463806]\n"
     ]
    }
   ],
   "source": [
    "# z は線形予測値\n",
    "z = np.array([3.063503480980308,-3.063503480980308])\n",
    "q = 1 / (1 + np.exp(-z))\n",
    "print(q)"
   ]
  },
  {
   "cell_type": "code",
   "execution_count": 35,
   "id": "c60a8b88-66bf-4664-8274-c1e049ad6663",
   "metadata": {},
   "outputs": [],
   "source": [
    "# 精度評価（訓練データ） AUCの算出\n",
    "from pyspark.ml.evaluation import BinaryClassificationEvaluator"
   ]
  },
  {
   "cell_type": "code",
   "execution_count": 36,
   "id": "89f882ce-3202-4fdc-996f-7a9a825c6c76",
   "metadata": {},
   "outputs": [
    {
     "name": "stdout",
     "output_type": "stream",
     "text": [
      "0.8331547859811365\n"
     ]
    }
   ],
   "source": [
    "evaluator = BinaryClassificationEvaluator(labelCol = \"y1\")\n",
    "AUC = evaluator.evaluate(pred_train)\n",
    "print(AUC)"
   ]
  },
  {
   "cell_type": "code",
   "execution_count": 37,
   "id": "feb408ce-5751-48a2-a141-9a135ce71135",
   "metadata": {},
   "outputs": [
    {
     "name": "stdout",
     "output_type": "stream",
     "text": [
      "+---+-------+--------+--------+--------+-------+---+---+\n",
      "|age|balance|duration|campaign|previous|default|  y| y1|\n",
      "+---+-------+--------+--------+--------+-------+---+---+\n",
      "| 18|      3|     130|       2|       0|     no|yes|1.0|\n",
      "| 18|      5|     143|       2|       0|     no| no|0.0|\n",
      "| 18|    108|     167|       1|       0|     no|yes|1.0|\n",
      "| 19|    103|      96|       2|       2|     no| no|0.0|\n",
      "| 19|    108|     168|       1|       2|     no|yes|1.0|\n",
      "| 19|    108|     273|       2|       1|     no|yes|1.0|\n",
      "| 19|    134|     271|       2|       0|     no|yes|1.0|\n",
      "| 19|    179|      62|       3|       0|     no| no|0.0|\n",
      "| 19|    291|     291|       5|       0|     no| no|0.0|\n",
      "| 19|    329|     169|       1|       2|     no|yes|1.0|\n",
      "| 19|    329|     252|       2|       0|     no|yes|1.0|\n",
      "| 19|    526|     122|       3|       0|     no| no|0.0|\n",
      "| 19|   1803|     124|       1|       1|     no| no|0.0|\n",
      "| 20|   -322|      73|       4|       0|     no| no|0.0|\n",
      "| 20|     29|      85|       2|       0|     no| no|0.0|\n",
      "| 20|     76|     639|       2|       0|     no|yes|1.0|\n",
      "| 20|     79|     168|       3|       0|     no| no|0.0|\n",
      "| 20|     88|     621|       1|       4|     no| no|0.0|\n",
      "| 20|    153|     100|       1|       0|     no|yes|1.0|\n",
      "| 20|    162|     106|       2|       0|     no| no|0.0|\n",
      "+---+-------+--------+--------+--------+-------+---+---+\n",
      "only showing top 20 rows\n",
      "\n"
     ]
    }
   ],
   "source": [
    "# テストデータ\n",
    "test_df.show()"
   ]
  },
  {
   "cell_type": "code",
   "execution_count": 38,
   "id": "469d7cc2-f470-4019-98e2-40aad9078ed6",
   "metadata": {},
   "outputs": [
    {
     "data": {
      "text/plain": [
       "13562"
      ]
     },
     "execution_count": 38,
     "metadata": {},
     "output_type": "execute_result"
    }
   ],
   "source": [
    "test_df.count()"
   ]
  },
  {
   "cell_type": "code",
   "execution_count": 39,
   "id": "ebbf0412-5e09-4928-9061-973ab1e2cd5f",
   "metadata": {},
   "outputs": [],
   "source": [
    "# テストデータの推論\n",
    "pred_test = fit_model.transform(test_df)"
   ]
  },
  {
   "cell_type": "code",
   "execution_count": 40,
   "id": "fec95195-b746-46c1-8dd8-fc0af8d15a3c",
   "metadata": {},
   "outputs": [
    {
     "name": "stdout",
     "output_type": "stream",
     "text": [
      "+---+-------+--------+--------+--------+-------+---+---+-------------+--------------------+--------------------+--------------------+--------------------+----------+\n",
      "|age|balance|duration|campaign|previous|default|  y| y1|default_index|            features|     scaled_faetures|       rawPrediction|         probability|prediction|\n",
      "+---+-------+--------+--------+--------+-------+---+---+-------------+--------------------+--------------------+--------------------+--------------------+----------+\n",
      "| 18|      3|     130|       2|       0|     no|yes|1.0|          0.0|[18.0,3.0,130.0,2...|[1.69579509967235...|[2.97025888993604...|[0.95121229283086...|       0.0|\n",
      "| 18|      5|     143|       2|       0|     no| no|0.0|          0.0|[18.0,5.0,143.0,2...|[1.69579509967235...|[2.92298874908348...|[0.94897122314169...|       0.0|\n",
      "| 18|    108|     167|       1|       0|     no|yes|1.0|          0.0|[18.0,108.0,167.0...|[1.69579509967235...|[2.68989335994989...|[0.93642763358003...|       0.0|\n",
      "| 19|    103|      96|       2|       2|     no| no|0.0|          0.0|[19.0,103.0,96.0,...|[1.79000593854304...|[2.78242300951869...|[0.94171857303437...|       0.0|\n",
      "| 19|    108|     168|       1|       2|     no|yes|1.0|          0.0|[19.0,108.0,168.0...|[1.79000593854304...|[2.37858465630851...|[0.91517963151963...|       0.0|\n",
      "| 19|    108|     273|       2|       1|     no|yes|1.0|          0.0|[19.0,108.0,273.0...|[1.79000593854304...|[2.29129087609519...|[0.90815318005652...|       0.0|\n",
      "| 19|    134|     271|       2|       0|     no|yes|1.0|          0.0|[19.0,134.0,271.0...|[1.79000593854304...|[2.44928525302835...|[0.92050916703822...|       0.0|\n",
      "| 19|    179|      62|       3|       0|     no| no|0.0|          0.0|[19.0,179.0,62.0,...|[1.79000593854304...|[3.34872000904665...|[0.96606289588002...|       0.0|\n",
      "| 19|    291|     291|       5|       0|     no| no|0.0|          0.0|[19.0,291.0,291.0...|[1.79000593854304...|[2.79778169084445...|[0.94255583307541...|       0.0|\n",
      "| 19|    329|     169|       1|       2|     no|yes|1.0|          0.0|[19.0,329.0,169.0...|[1.79000593854304...|[2.36699992776569...|[0.91427602081666...|       0.0|\n",
      "| 19|    329|     252|       2|       0|     no|yes|1.0|          0.0|[19.0,329.0,252.0...|[1.79000593854304...|[2.51124885190173...|[0.92492665350219...|       0.0|\n",
      "| 19|    526|     122|       3|       0|     no| no|0.0|          0.0|[19.0,526.0,122.0...|[1.79000593854304...|[3.11839333824878...|[0.95764510831862...|       0.0|\n",
      "| 19|   1803|     124|       1|       1|     no| no|0.0|          0.0|[19.0,1803.0,124....|[1.79000593854304...|[2.62899573128598...|[0.93270454208469...|       0.0|\n",
      "| 20|   -322|      73|       4|       0|     no| no|0.0|          0.0|[20.0,-322.0,73.0...|[1.88421677741372...|[3.46472773509319...|[0.96966733090179...|       0.0|\n",
      "| 20|     29|      85|       2|       0|     no| no|0.0|          0.0|[20.0,29.0,85.0,2...|[1.88421677741372...|[3.12402079426534...|[0.95787277637587...|       0.0|\n",
      "| 20|     76|     639|       2|       0|     no|yes|1.0|          0.0|[20.0,76.0,639.0,...|[1.88421677741372...|[1.11096154019465...|[0.75230832879230...|       0.0|\n",
      "| 20|     79|     168|       3|       0|     no| no|0.0|          0.0|[20.0,79.0,168.0,...|[1.88421677741372...|[2.96313235116151...|[0.95088050272527...|       0.0|\n",
      "| 20|     88|     621|       1|       4|     no| no|0.0|          0.0|[20.0,88.0,621.0,...|[1.88421677741372...|[0.42695213210374...|[0.60514563135520...|       0.0|\n",
      "| 20|    153|     100|       1|       0|     no|yes|1.0|          0.0|[20.0,153.0,100.0...|[1.88421677741372...|[2.92284523345209...|[0.94896427297227...|       0.0|\n",
      "| 20|    162|     106|       2|       0|     no| no|0.0|          0.0|[20.0,162.0,106.0...|[1.88421677741372...|[3.04299075873239...|[0.95447895111128...|       0.0|\n",
      "+---+-------+--------+--------+--------+-------+---+---+-------------+--------------------+--------------------+--------------------+--------------------+----------+\n",
      "only showing top 20 rows\n",
      "\n"
     ]
    }
   ],
   "source": [
    "pred_test.show()"
   ]
  },
  {
   "cell_type": "code",
   "execution_count": 41,
   "id": "e388cdc8-6417-4716-824a-249114e8ba54",
   "metadata": {},
   "outputs": [
    {
     "name": "stdout",
     "output_type": "stream",
     "text": [
      "0.8321723113642512\n"
     ]
    }
   ],
   "source": [
    "AUC = evaluator.evaluate(pred_test)\n",
    "print(AUC)"
   ]
  },
  {
   "cell_type": "code",
   "execution_count": 43,
   "id": "7c456457-8ff8-4552-89f5-ca20edd0194c",
   "metadata": {},
   "outputs": [
    {
     "data": {
      "text/html": [
       "<div>\n",
       "<style scoped>\n",
       "    .dataframe tbody tr th:only-of-type {\n",
       "        vertical-align: middle;\n",
       "    }\n",
       "\n",
       "    .dataframe tbody tr th {\n",
       "        vertical-align: top;\n",
       "    }\n",
       "\n",
       "    .dataframe thead th {\n",
       "        text-align: right;\n",
       "    }\n",
       "</style>\n",
       "<table border=\"1\" class=\"dataframe\">\n",
       "  <thead>\n",
       "    <tr style=\"text-align: right;\">\n",
       "      <th></th>\n",
       "      <th>y1</th>\n",
       "    </tr>\n",
       "  </thead>\n",
       "  <tbody>\n",
       "    <tr>\n",
       "      <th>0</th>\n",
       "      <td>1.0</td>\n",
       "    </tr>\n",
       "    <tr>\n",
       "      <th>1</th>\n",
       "      <td>0.0</td>\n",
       "    </tr>\n",
       "    <tr>\n",
       "      <th>2</th>\n",
       "      <td>1.0</td>\n",
       "    </tr>\n",
       "    <tr>\n",
       "      <th>3</th>\n",
       "      <td>0.0</td>\n",
       "    </tr>\n",
       "    <tr>\n",
       "      <th>4</th>\n",
       "      <td>1.0</td>\n",
       "    </tr>\n",
       "    <tr>\n",
       "      <th>...</th>\n",
       "      <td>...</td>\n",
       "    </tr>\n",
       "    <tr>\n",
       "      <th>13557</th>\n",
       "      <td>0.0</td>\n",
       "    </tr>\n",
       "    <tr>\n",
       "      <th>13558</th>\n",
       "      <td>1.0</td>\n",
       "    </tr>\n",
       "    <tr>\n",
       "      <th>13559</th>\n",
       "      <td>1.0</td>\n",
       "    </tr>\n",
       "    <tr>\n",
       "      <th>13560</th>\n",
       "      <td>0.0</td>\n",
       "    </tr>\n",
       "    <tr>\n",
       "      <th>13561</th>\n",
       "      <td>0.0</td>\n",
       "    </tr>\n",
       "  </tbody>\n",
       "</table>\n",
       "<p>13562 rows × 1 columns</p>\n",
       "</div>"
      ],
      "text/plain": [
       "        y1\n",
       "0      1.0\n",
       "1      0.0\n",
       "2      1.0\n",
       "3      0.0\n",
       "4      1.0\n",
       "...    ...\n",
       "13557  0.0\n",
       "13558  1.0\n",
       "13559  1.0\n",
       "13560  0.0\n",
       "13561  0.0\n",
       "\n",
       "[13562 rows x 1 columns]"
      ]
     },
     "execution_count": 43,
     "metadata": {},
     "output_type": "execute_result"
    }
   ],
   "source": [
    "# 混同行列\n",
    "from sklearn.metrics import confusion_matrix\n",
    "y_true = pred_test.select(\"y1\")\n",
    "y_true = y_true.toPandas()\n",
    "y_true"
   ]
  },
  {
   "cell_type": "code",
   "execution_count": 45,
   "id": "1a6dc634-c268-430e-945d-a72034af0b36",
   "metadata": {},
   "outputs": [
    {
     "data": {
      "text/html": [
       "<div>\n",
       "<style scoped>\n",
       "    .dataframe tbody tr th:only-of-type {\n",
       "        vertical-align: middle;\n",
       "    }\n",
       "\n",
       "    .dataframe tbody tr th {\n",
       "        vertical-align: top;\n",
       "    }\n",
       "\n",
       "    .dataframe thead th {\n",
       "        text-align: right;\n",
       "    }\n",
       "</style>\n",
       "<table border=\"1\" class=\"dataframe\">\n",
       "  <thead>\n",
       "    <tr style=\"text-align: right;\">\n",
       "      <th></th>\n",
       "      <th>prediction</th>\n",
       "    </tr>\n",
       "  </thead>\n",
       "  <tbody>\n",
       "    <tr>\n",
       "      <th>0</th>\n",
       "      <td>0.0</td>\n",
       "    </tr>\n",
       "    <tr>\n",
       "      <th>1</th>\n",
       "      <td>0.0</td>\n",
       "    </tr>\n",
       "    <tr>\n",
       "      <th>2</th>\n",
       "      <td>0.0</td>\n",
       "    </tr>\n",
       "    <tr>\n",
       "      <th>3</th>\n",
       "      <td>0.0</td>\n",
       "    </tr>\n",
       "    <tr>\n",
       "      <th>4</th>\n",
       "      <td>0.0</td>\n",
       "    </tr>\n",
       "    <tr>\n",
       "      <th>...</th>\n",
       "      <td>...</td>\n",
       "    </tr>\n",
       "    <tr>\n",
       "      <th>13557</th>\n",
       "      <td>0.0</td>\n",
       "    </tr>\n",
       "    <tr>\n",
       "      <th>13558</th>\n",
       "      <td>1.0</td>\n",
       "    </tr>\n",
       "    <tr>\n",
       "      <th>13559</th>\n",
       "      <td>1.0</td>\n",
       "    </tr>\n",
       "    <tr>\n",
       "      <th>13560</th>\n",
       "      <td>0.0</td>\n",
       "    </tr>\n",
       "    <tr>\n",
       "      <th>13561</th>\n",
       "      <td>0.0</td>\n",
       "    </tr>\n",
       "  </tbody>\n",
       "</table>\n",
       "<p>13562 rows × 1 columns</p>\n",
       "</div>"
      ],
      "text/plain": [
       "       prediction\n",
       "0             0.0\n",
       "1             0.0\n",
       "2             0.0\n",
       "3             0.0\n",
       "4             0.0\n",
       "...           ...\n",
       "13557         0.0\n",
       "13558         1.0\n",
       "13559         1.0\n",
       "13560         0.0\n",
       "13561         0.0\n",
       "\n",
       "[13562 rows x 1 columns]"
      ]
     },
     "execution_count": 45,
     "metadata": {},
     "output_type": "execute_result"
    }
   ],
   "source": [
    "y_pred = pred_test.select(\"prediction\")\n",
    "y_pred = y_pred.toPandas()\n",
    "y_pred"
   ]
  },
  {
   "cell_type": "code",
   "execution_count": 46,
   "id": "787d12da-c698-49c4-8fef-9e1a1bd39b70",
   "metadata": {},
   "outputs": [
    {
     "data": {
      "text/plain": [
       "array([[11749,   214],\n",
       "       [ 1304,   295]])"
      ]
     },
     "execution_count": 46,
     "metadata": {},
     "output_type": "execute_result"
    }
   ],
   "source": [
    "class_name = [0, 1]\n",
    "cnf_matrix = confusion_matrix(y_true, y_pred, labels=class_name)\n",
    "cnf_matrix"
   ]
  },
  {
   "cell_type": "code",
   "execution_count": 48,
   "id": "e5987adf-cf46-4196-bb74-ad2a8da509c6",
   "metadata": {},
   "outputs": [
    {
     "name": "stdout",
     "output_type": "stream",
     "text": [
      "11749 214 1304 295\n"
     ]
    }
   ],
   "source": [
    "tn, fp, fn, tp = cnf_matrix.flatten()\n",
    "print(tn, fp, fn, tp)"
   ]
  },
  {
   "cell_type": "code",
   "execution_count": 49,
   "id": "7aa643f3-8c50-4f0f-828a-0efc6b439bef",
   "metadata": {},
   "outputs": [],
   "source": [
    "from sklearn.metrics import accuracy_score, precision_score, recall_score, f1_score"
   ]
  },
  {
   "cell_type": "code",
   "execution_count": 50,
   "id": "4eac8eff-cf00-4e28-b0bc-4bc92226f10d",
   "metadata": {},
   "outputs": [
    {
     "name": "stdout",
     "output_type": "stream",
     "text": [
      "accuracy:0.8880696062527651\n"
     ]
    }
   ],
   "source": [
    "print(\"accuracy:{}\".format(accuracy_score(y_true, y_pred)))"
   ]
  },
  {
   "cell_type": "code",
   "execution_count": 51,
   "id": "dfd8b271-586d-40d5-a100-245f2c66394e",
   "metadata": {},
   "outputs": [
    {
     "name": "stdout",
     "output_type": "stream",
     "text": [
      "precision:0.5795677799607073\n",
      "recall:0.18449030644152595\n",
      "f1:0.27988614800759015\n"
     ]
    }
   ],
   "source": [
    "print(\"precision:{}\".format(precision_score(y_true, y_pred)))\n",
    "print(\"recall:{}\".format(recall_score(y_true, y_pred)))\n",
    "print(\"f1:{}\".format(f1_score(y_true, y_pred)))"
   ]
  },
  {
   "cell_type": "code",
   "execution_count": null,
   "id": "a5995ae7-bc17-4691-b5b9-935fd29870bf",
   "metadata": {},
   "outputs": [],
   "source": []
  }
 ],
 "metadata": {
  "kernelspec": {
   "display_name": "Python 3.8.1 64-bit ('3.8.1')",
   "language": "python",
   "name": "python3"
  },
  "language_info": {
   "codemirror_mode": {
    "name": "ipython",
    "version": 3
   },
   "file_extension": ".py",
   "mimetype": "text/x-python",
   "name": "python",
   "nbconvert_exporter": "python",
   "pygments_lexer": "ipython3",
   "version": "3.8.1"
  },
  "vscode": {
   "interpreter": {
    "hash": "803339491ac0b395e48fbdef7832e96b8133acdc419e2accf4e3c617f6a0044d"
   }
  }
 },
 "nbformat": 4,
 "nbformat_minor": 5
}
