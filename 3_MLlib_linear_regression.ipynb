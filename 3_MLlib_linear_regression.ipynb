{
 "cells": [
  {
   "cell_type": "code",
   "execution_count": 1,
   "id": "30001d92-9695-41ea-9d20-c13aeb829d8c",
   "metadata": {},
   "outputs": [],
   "source": [
    "# 全データを使ったモデリング(流れの確認)\n",
    "# - とりあえず特徴量には数値のカラムのみ使用する\n",
    "# - 標準化は行わない\n",
    "# - one-hot encoding は行わない\n",
    "# - 重複業などのデータチェックは行わない\n",
    "# 手順\n",
    "# 0, 簡単なデータチェック\n",
    "# 1, データ作成\n",
    "# 2, モデリング\n",
    "# 3, 係数や制度指標の確認\n",
    "from pyspark.sql import SparkSession\n",
    "spark = SparkSession.builder.appName(\"Data_wrangling\").getOrCreate()"
   ]
  },
  {
   "cell_type": "code",
   "execution_count": 2,
   "id": "2b4dde26-982e-4626-b73d-f59cc625f81a",
   "metadata": {},
   "outputs": [],
   "source": [
    "data = spark.read.csv(\"./data/bank/bank-full.csv\", header=True, inferSchema=True, sep=\";\")"
   ]
  },
  {
   "cell_type": "code",
   "execution_count": 6,
   "id": "372bf322-1924-47f9-beef-605a6f4ba4db",
   "metadata": {},
   "outputs": [
    {
     "name": "stdout",
     "output_type": "stream",
     "text": [
      "+-------+------------------+-------+--------+---------+-------+------------------+-------+-----+--------+-----------------+-----+------------------+-----------------+------------------+------------------+--------+-----+\n",
      "|summary|               age|    job| marital|education|default|           balance|housing| loan| contact|              day|month|          duration|         campaign|             pdays|          previous|poutcome|    y|\n",
      "+-------+------------------+-------+--------+---------+-------+------------------+-------+-----+--------+-----------------+-----+------------------+-----------------+------------------+------------------+--------+-----+\n",
      "|  count|             45211|  45211|   45211|    45211|  45211|             45211|  45211|45211|   45211|            45211|45211|             45211|            45211|             45211|             45211|   45211|45211|\n",
      "|   mean| 40.93621021432837|   null|    null|     null|   null|1362.2720576850766|   null| null|    null|15.80641879188693| null| 258.1630797814691|2.763840658246887| 40.19782796222158|0.5803233726305546|    null| null|\n",
      "| stddev|10.618762040975408|   null|    null|     null|   null|3044.7658291685243|   null| null|    null|8.322476153044596| null|257.52781226517095|3.098020883279184|100.12874599059813|2.3034410449312204|    null| null|\n",
      "|    min|                18| admin.|divorced|  primary|     no|             -8019|     no|   no|cellular|                1|  apr|                 0|                1|                -1|                 0| failure|   no|\n",
      "|    25%|                33|   null|    null|     null|   null|                72|   null| null|    null|                8| null|               103|                1|                -1|                 0|    null| null|\n",
      "|    50%|                39|   null|    null|     null|   null|               448|   null| null|    null|               16| null|               180|                2|                -1|                 0|    null| null|\n",
      "|    75%|                48|   null|    null|     null|   null|              1427|   null| null|    null|               21| null|               319|                3|                -1|                 0|    null| null|\n",
      "|    max|                95|unknown|  single|  unknown|    yes|            102127|    yes|  yes| unknown|               31|  sep|              4918|               63|               871|               275| unknown|  yes|\n",
      "+-------+------------------+-------+--------+---------+-------+------------------+-------+-----+--------+-----------------+-----+------------------+-----------------+------------------+------------------+--------+-----+\n",
      "\n"
     ]
    }
   ],
   "source": [
    "data.summary().show()"
   ]
  },
  {
   "cell_type": "code",
   "execution_count": 7,
   "id": "e65a5d9f-dec2-400c-ac0f-8304283e1ef1",
   "metadata": {},
   "outputs": [],
   "source": [
    "# データ作成"
   ]
  },
  {
   "cell_type": "code",
   "execution_count": 9,
   "id": "d5fe36c0-cd41-45c5-b129-761649e6337f",
   "metadata": {},
   "outputs": [],
   "source": [
    "linear_df = data.select([\"age\", \"balance\", \"campaign\"])\n",
    "target = \"balance\"\n",
    "features = [\"age\", \"campaign\"]\n",
    "train_df = data.select(features)"
   ]
  },
  {
   "cell_type": "code",
   "execution_count": 10,
   "id": "4709f4ce-4a8c-4c31-8571-d25215e01ded",
   "metadata": {},
   "outputs": [
    {
     "data": {
      "text/plain": [
       "['age', 'campaign']"
      ]
     },
     "execution_count": 10,
     "metadata": {},
     "output_type": "execute_result"
    }
   ],
   "source": [
    "features"
   ]
  },
  {
   "cell_type": "code",
   "execution_count": 19,
   "id": "d076b1a3-9e98-4e37-ade7-97e8a7b77a65",
   "metadata": {},
   "outputs": [],
   "source": [
    "# データ作成ステージ\n",
    "from pyspark.ml.feature import VectorAssembler\n",
    "assemble = VectorAssembler(inputCols=features, outputCol=\"features\")"
   ]
  },
  {
   "cell_type": "code",
   "execution_count": 20,
   "id": "31a322c1-e690-40cf-8787-3c4fbbe7e059",
   "metadata": {},
   "outputs": [],
   "source": [
    "# 線形重回帰モデリングステージ\n",
    "from pyspark.ml.regression import LinearRegression\n",
    "clf = LinearRegression(featuresCol=\"features\", labelCol=\"balance\")"
   ]
  },
  {
   "cell_type": "code",
   "execution_count": 21,
   "id": "989cfd94-3a2e-4a3b-b8ed-fa1845f30d76",
   "metadata": {},
   "outputs": [
    {
     "name": "stderr",
     "output_type": "stream",
     "text": [
      "Exception ignored in: <function JavaWrapper.__del__ at 0x7f01e88548b0>\n",
      "Traceback (most recent call last):\n",
      "  File \"/usr/local/spark/python/pyspark/ml/wrapper.py\", line 53, in __del__\n",
      "    if SparkContext._active_spark_context and self._java_obj is not None:\n",
      "AttributeError: 'LinearRegression' object has no attribute '_java_obj'\n",
      "Exception ignored in: <function JavaWrapper.__del__ at 0x7f01e88548b0>\n",
      "Traceback (most recent call last):\n",
      "  File \"/usr/local/spark/python/pyspark/ml/wrapper.py\", line 53, in __del__\n",
      "    if SparkContext._active_spark_context and self._java_obj is not None:\n",
      "AttributeError: 'LinearRegression' object has no attribute '_java_obj'\n"
     ]
    }
   ],
   "source": [
    "# パイプラインの設定: ステージの登録\n",
    "from pyspark.ml.pipeline import Pipeline\n",
    "pipeline = Pipeline(stages=[assemble, clf])\n",
    "model = pipeline.fit(linear_df)"
   ]
  },
  {
   "cell_type": "code",
   "execution_count": 22,
   "id": "c445ff9a-96cd-47b8-9dcc-f399b4fa562e",
   "metadata": {},
   "outputs": [
    {
     "name": "stdout",
     "output_type": "stream",
     "text": [
      "+---+-------+--------+----------+------------------+\n",
      "|age|balance|campaign|  features|        prediction|\n",
      "+---+-------+--------+----------+------------------+\n",
      "| 58|   2143|       1|[58.0,1.0]|1867.1309208276969|\n",
      "| 44|     29|       1|[44.0,1.0]| 1474.315799038966|\n",
      "| 33|      2|       1|[33.0,1.0]| 1165.675346204963|\n",
      "| 47|   1506|       1|[47.0,1.0]| 1558.490467993694|\n",
      "| 33|      1|       1|[33.0,1.0]| 1165.675346204963|\n",
      "| 35|    231|       1|[35.0,1.0]|1221.7917921747817|\n",
      "| 28|    447|       1|[28.0,1.0]|1025.3842312804163|\n",
      "| 42|      2|       1|[42.0,1.0]|1418.1993530691473|\n",
      "| 58|    121|       1|[58.0,1.0]|1867.1309208276969|\n",
      "| 43|    593|       1|[43.0,1.0]|1446.2575760540565|\n",
      "| 41|    270|       1|[41.0,1.0]|1390.1411300842378|\n",
      "| 29|    390|       1|[29.0,1.0]|1053.4424542653255|\n",
      "| 53|      6|       1|[53.0,1.0]|1726.8398059031501|\n",
      "| 58|     71|       1|[58.0,1.0]|1867.1309208276969|\n",
      "| 57|    162|       1|[57.0,1.0]|1839.0726978427874|\n",
      "| 51|    229|       1|[51.0,1.0]|1670.7233599333313|\n",
      "| 45|     13|       1|[45.0,1.0]|1502.3740220238753|\n",
      "| 57|     52|       1|[57.0,1.0]|1839.0726978427874|\n",
      "| 60|     60|       1|[60.0,1.0]|1923.2473667975155|\n",
      "| 33|      0|       1|[33.0,1.0]| 1165.675346204963|\n",
      "+---+-------+--------+----------+------------------+\n",
      "only showing top 20 rows\n",
      "\n"
     ]
    }
   ],
   "source": [
    "# パイプラインの実行\n",
    "df = model.transform(linear_df)\n",
    "df.show()"
   ]
  },
  {
   "cell_type": "code",
   "execution_count": 23,
   "id": "72de6a5c-cd74-42c4-b8d6-8ff94e5cb710",
   "metadata": {},
   "outputs": [
    {
     "data": {
      "text/plain": [
       "DenseVector([28.0582, -14.7855])"
      ]
     },
     "execution_count": 23,
     "metadata": {},
     "output_type": "execute_result"
    }
   ],
   "source": [
    "# 係数の確認\n",
    "model.stages[1].coefficients"
   ]
  },
  {
   "cell_type": "code",
   "execution_count": 24,
   "id": "25999824-6fd6-47b9-b4f1-5f1011b2ab5d",
   "metadata": {},
   "outputs": [
    {
     "data": {
      "text/plain": [
       "254.53947540939342"
      ]
     },
     "execution_count": 24,
     "metadata": {},
     "output_type": "execute_result"
    }
   ],
   "source": [
    "# 切片\n",
    "model.stages[1].intercept"
   ]
  },
  {
   "cell_type": "code",
   "execution_count": 26,
   "id": "0b3df2d1-3444-446a-ad64-b5b55d7e74c4",
   "metadata": {},
   "outputs": [],
   "source": [
    "# 線形重回帰のモデリングと予測\n",
    "# 学習データとテストデータを分ける。"
   ]
  },
  {
   "cell_type": "code",
   "execution_count": 27,
   "id": "f03b88bb-80a4-40eb-96db-6cd0db2e9095",
   "metadata": {},
   "outputs": [],
   "source": [
    "train_df, test_df = data.select([\"age\",\"balance\",\"campaign\"]) \\\n",
    "                            .randomSplit([0.7, 0.3], seed = 1)"
   ]
  },
  {
   "cell_type": "code",
   "execution_count": 28,
   "id": "d16c7368-13b9-4082-b6ac-c97bad9aea6d",
   "metadata": {},
   "outputs": [
    {
     "name": "stdout",
     "output_type": "stream",
     "text": [
      "+---+-------+--------+\n",
      "|age|balance|campaign|\n",
      "+---+-------+--------+\n",
      "| 18|      3|       2|\n",
      "| 18|      5|       2|\n",
      "| 18|     35|       2|\n",
      "| 18|    108|       1|\n",
      "| 18|    156|       2|\n",
      "| 18|    608|       1|\n",
      "| 18|    608|       1|\n",
      "| 18|   1944|       3|\n",
      "| 19|      0|       3|\n",
      "| 19|      0|       4|\n",
      "| 19|      4|       1|\n",
      "| 19|     96|       3|\n",
      "| 19|    103|       2|\n",
      "| 19|    103|       2|\n",
      "| 19|    103|       2|\n",
      "| 19|    134|       2|\n",
      "| 19|    179|       3|\n",
      "| 19|    291|       5|\n",
      "| 19|    329|       2|\n",
      "| 19|    526|       3|\n",
      "+---+-------+--------+\n",
      "only showing top 20 rows\n",
      "\n"
     ]
    }
   ],
   "source": [
    "train_df.show()"
   ]
  },
  {
   "cell_type": "code",
   "execution_count": 30,
   "id": "4decfb9b-74c5-4bef-aae8-705b7d1ffb94",
   "metadata": {},
   "outputs": [
    {
     "data": {
      "text/plain": [
       "31677"
      ]
     },
     "execution_count": 30,
     "metadata": {},
     "output_type": "execute_result"
    }
   ],
   "source": [
    "train_df.count()"
   ]
  },
  {
   "cell_type": "code",
   "execution_count": 31,
   "id": "2df7fa85-5e07-49f2-8929-8ad40a0e258e",
   "metadata": {},
   "outputs": [],
   "source": [
    "# 学習データでモデリング\n",
    "# データ作成ステージ"
   ]
  },
  {
   "cell_type": "code",
   "execution_count": 32,
   "id": "c926fb31-f66b-4f64-a27d-61bcadc0035f",
   "metadata": {},
   "outputs": [],
   "source": [
    "from pyspark.ml.feature import VectorAssembler\n",
    "target = \"balance\"\n",
    "features = [\"age\", \"campaign\"]\n",
    "assemble = VectorAssembler(inputCols=features, outputCol=\"features\")"
   ]
  },
  {
   "cell_type": "code",
   "execution_count": 34,
   "id": "7eb3e84b-b74d-4821-b9f2-9b611eecf313",
   "metadata": {},
   "outputs": [],
   "source": [
    "# 線形重回帰ステージ\n",
    "from pyspark.ml.regression import LinearRegression\n",
    "clf = LinearRegression(featuresCol=\"features\", labelCol=\"balance\")"
   ]
  },
  {
   "cell_type": "code",
   "execution_count": 36,
   "id": "f33177d4-fdcb-483b-b578-b455bad1253f",
   "metadata": {},
   "outputs": [],
   "source": [
    "# パイプライン登録\n",
    "from pyspark.ml.pipeline import Pipeline\n",
    "pipeline = Pipeline(stages=[assemble, clf])\n",
    "model = pipeline.fit(train_df)"
   ]
  },
  {
   "cell_type": "code",
   "execution_count": 39,
   "id": "f282d028-c25c-4d5c-a089-7499c846ed51",
   "metadata": {},
   "outputs": [
    {
     "name": "stdout",
     "output_type": "stream",
     "text": [
      "+---+-------+--------+----------+-----------------+\n",
      "|age|balance|campaign|  features|       prediction|\n",
      "+---+-------+--------+----------+-----------------+\n",
      "| 18|      3|       2|[18.0,2.0]|733.4646173474521|\n",
      "| 18|      5|       2|[18.0,2.0]|733.4646173474521|\n",
      "| 18|     35|       2|[18.0,2.0]|733.4646173474521|\n",
      "| 18|    108|       1|[18.0,1.0]|749.1539074836246|\n",
      "| 18|    156|       2|[18.0,2.0]|733.4646173474521|\n",
      "| 18|    608|       1|[18.0,1.0]|749.1539074836246|\n",
      "| 18|    608|       1|[18.0,1.0]|749.1539074836246|\n",
      "| 18|   1944|       3|[18.0,3.0]|717.7753272112798|\n",
      "| 19|      0|       3|[19.0,3.0]|745.0493288502088|\n",
      "| 19|      0|       4|[19.0,4.0]|729.3600387140364|\n",
      "| 19|      4|       1|[19.0,1.0]|776.4279091225537|\n",
      "| 19|     96|       3|[19.0,3.0]|745.0493288502088|\n",
      "| 19|    103|       2|[19.0,2.0]|760.7386189863812|\n",
      "| 19|    103|       2|[19.0,2.0]|760.7386189863812|\n",
      "| 19|    103|       2|[19.0,2.0]|760.7386189863812|\n",
      "| 19|    134|       2|[19.0,2.0]|760.7386189863812|\n",
      "| 19|    179|       3|[19.0,3.0]|745.0493288502088|\n",
      "| 19|    291|       5|[19.0,5.0]|713.6707485778638|\n",
      "| 19|    329|       2|[19.0,2.0]|760.7386189863812|\n",
      "| 19|    526|       3|[19.0,3.0]|745.0493288502088|\n",
      "+---+-------+--------+----------+-----------------+\n",
      "only showing top 20 rows\n",
      "\n"
     ]
    }
   ],
   "source": [
    "# 実行\n",
    "pred_train = model.transform(train_df)\n",
    "pred_train.show()"
   ]
  },
  {
   "cell_type": "code",
   "execution_count": 48,
   "id": "e8edf9d5-545c-48dc-b5b7-2f25cdef8a45",
   "metadata": {},
   "outputs": [
    {
     "data": {
      "text/plain": [
       "2994.8092260371577"
      ]
     },
     "execution_count": 48,
     "metadata": {},
     "output_type": "execute_result"
    }
   ],
   "source": [
    "# RMSE (sklearn)\n",
    "from sklearn.metrics import mean_squared_error\n",
    "import numpy as np\n",
    "import pandas as pd\n",
    "pred_train_pandas = pred_train.toPandas()\n",
    "np.sqrt(mean_squared_error(pred_train_pandas[\"balance\"], pred_train_pandas[\"prediction\"]))"
   ]
  },
  {
   "cell_type": "code",
   "execution_count": 49,
   "id": "931cb13e-19a3-460f-b6cf-ccab191b8111",
   "metadata": {},
   "outputs": [
    {
     "data": {
      "text/html": [
       "<div>\n",
       "<style scoped>\n",
       "    .dataframe tbody tr th:only-of-type {\n",
       "        vertical-align: middle;\n",
       "    }\n",
       "\n",
       "    .dataframe tbody tr th {\n",
       "        vertical-align: top;\n",
       "    }\n",
       "\n",
       "    .dataframe thead th {\n",
       "        text-align: right;\n",
       "    }\n",
       "</style>\n",
       "<table border=\"1\" class=\"dataframe\">\n",
       "  <thead>\n",
       "    <tr style=\"text-align: right;\">\n",
       "      <th></th>\n",
       "      <th>coefficients</th>\n",
       "    </tr>\n",
       "  </thead>\n",
       "  <tbody>\n",
       "    <tr>\n",
       "      <th>age</th>\n",
       "      <td>27.274002</td>\n",
       "    </tr>\n",
       "    <tr>\n",
       "      <th>campaign</th>\n",
       "      <td>-15.689290</td>\n",
       "    </tr>\n",
       "  </tbody>\n",
       "</table>\n",
       "</div>"
      ],
      "text/plain": [
       "          coefficients\n",
       "age          27.274002\n",
       "campaign    -15.689290"
      ]
     },
     "execution_count": 49,
     "metadata": {},
     "output_type": "execute_result"
    }
   ],
   "source": [
    "# 係数\n",
    "train_cols = train_df.columns\n",
    "train_cols.remove(target)\n",
    "pd.DataFrame(index=train_cols, data=model.stages[1].coefficients, columns=[\"coefficients\"])\n"
   ]
  },
  {
   "cell_type": "code",
   "execution_count": 50,
   "id": "9f2297af-25e5-4b02-b369-c41c7780ac8a",
   "metadata": {},
   "outputs": [
    {
     "name": "stdout",
     "output_type": "stream",
     "text": [
      "+---+-------+--------+\n",
      "|age|balance|campaign|\n",
      "+---+-------+--------+\n",
      "| 18|    108|       1|\n",
      "| 18|    108|       1|\n",
      "| 19|     27|      12|\n",
      "| 19|     55|       2|\n",
      "| 19|     56|       1|\n",
      "| 19|     60|       1|\n",
      "| 19|     88|       1|\n",
      "| 19|    779|       4|\n",
      "| 19|   1803|       1|\n",
      "| 19|   1803|       1|\n",
      "| 20|   -322|       4|\n",
      "| 20|      0|       5|\n",
      "| 20|     66|       2|\n",
      "| 20|     67|       1|\n",
      "| 20|     76|       2|\n",
      "| 20|    210|       1|\n",
      "| 20|    215|       4|\n",
      "| 20|    336|       1|\n",
      "| 20|    755|       1|\n",
      "| 20|   1191|       2|\n",
      "+---+-------+--------+\n",
      "only showing top 20 rows\n",
      "\n"
     ]
    }
   ],
   "source": [
    "# テストデータによる予測\n",
    "test_df.show()"
   ]
  },
  {
   "cell_type": "code",
   "execution_count": 51,
   "id": "deffaaf1-491a-4f20-84bf-bd01c1328e0a",
   "metadata": {},
   "outputs": [
    {
     "data": {
      "text/plain": [
       "13534"
      ]
     },
     "execution_count": 51,
     "metadata": {},
     "output_type": "execute_result"
    }
   ],
   "source": [
    "test_df.count()"
   ]
  },
  {
   "cell_type": "code",
   "execution_count": 53,
   "id": "55be8584-f25a-4213-8622-6c5e45d716d8",
   "metadata": {},
   "outputs": [
    {
     "name": "stdout",
     "output_type": "stream",
     "text": [
      "+---+-------+--------+-----------+-----------------+\n",
      "|age|balance|campaign|   features|       prediction|\n",
      "+---+-------+--------+-----------+-----------------+\n",
      "| 18|    108|       1| [18.0,1.0]|749.1539074836246|\n",
      "| 18|    108|       1| [18.0,1.0]|749.1539074836246|\n",
      "| 19|     27|      12|[19.0,12.0]|603.8457176246568|\n",
      "| 19|     55|       2| [19.0,2.0]|760.7386189863812|\n",
      "| 19|     56|       1| [19.0,1.0]|776.4279091225537|\n",
      "| 19|     60|       1| [19.0,1.0]|776.4279091225537|\n",
      "| 19|     88|       1| [19.0,1.0]|776.4279091225537|\n",
      "| 19|    779|       4| [19.0,4.0]|729.3600387140364|\n",
      "| 19|   1803|       1| [19.0,1.0]|776.4279091225537|\n",
      "| 19|   1803|       1| [19.0,1.0]|776.4279091225537|\n",
      "| 20|   -322|       4| [20.0,4.0]|756.6340403529655|\n",
      "| 20|      0|       5| [20.0,5.0]| 740.944750216793|\n",
      "| 20|     66|       2| [20.0,2.0]|788.0126206253103|\n",
      "| 20|     67|       1| [20.0,1.0]|803.7019107614828|\n",
      "| 20|     76|       2| [20.0,2.0]|788.0126206253103|\n",
      "| 20|    210|       1| [20.0,1.0]|803.7019107614828|\n",
      "| 20|    215|       4| [20.0,4.0]|756.6340403529655|\n",
      "| 20|    336|       1| [20.0,1.0]|803.7019107614828|\n",
      "| 20|    755|       1| [20.0,1.0]|803.7019107614828|\n",
      "| 20|   1191|       2| [20.0,2.0]|788.0126206253103|\n",
      "+---+-------+--------+-----------+-----------------+\n",
      "only showing top 20 rows\n",
      "\n"
     ]
    }
   ],
   "source": [
    "pred_test = model.transform(test_df)\n",
    "pred_test.show()"
   ]
  },
  {
   "cell_type": "code",
   "execution_count": 54,
   "id": "0dde2d88-cc39-4a10-a238-249e5b42dd00",
   "metadata": {},
   "outputs": [
    {
     "data": {
      "text/plain": [
       "2994.8092260371577"
      ]
     },
     "execution_count": 54,
     "metadata": {},
     "output_type": "execute_result"
    }
   ],
   "source": [
    "# RMSE (sklearn)\n",
    "pred_test_pandas = pred_test.toPandas()\n",
    "np.sqrt(mean_squared_error(pred_train_pandas[\"balance\"], pred_train_pandas[\"prediction\"]))"
   ]
  }
 ],
 "metadata": {
  "kernelspec": {
   "display_name": "Python 3.8.1 64-bit ('3.8.1')",
   "language": "python",
   "name": "python3"
  },
  "language_info": {
   "codemirror_mode": {
    "name": "ipython",
    "version": 3
   },
   "file_extension": ".py",
   "mimetype": "text/x-python",
   "name": "python",
   "nbconvert_exporter": "python",
   "pygments_lexer": "ipython3",
   "version": "3.8.1"
  },
  "toc-showtags": false,
  "vscode": {
   "interpreter": {
    "hash": "803339491ac0b395e48fbdef7832e96b8133acdc419e2accf4e3c617f6a0044d"
   }
  }
 },
 "nbformat": 4,
 "nbformat_minor": 5
}
