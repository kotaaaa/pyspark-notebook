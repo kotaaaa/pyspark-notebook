{
 "cells": [
  {
   "cell_type": "code",
   "execution_count": 1,
   "id": "5f1d1c7f-f8bd-442b-bd1b-19162a9f06c2",
   "metadata": {},
   "outputs": [],
   "source": [
    "from pyspark.sql import SparkSession"
   ]
  },
  {
   "cell_type": "code",
   "execution_count": 2,
   "id": "b80c91c1-0600-4b49-928e-6f3f8f6bb603",
   "metadata": {},
   "outputs": [],
   "source": [
    "spark = SparkSession.builder.appName(\"Data_wrangling\").getOrCreate()"
   ]
  },
  {
   "cell_type": "code",
   "execution_count": null,
   "id": "a5274393-822f-4a22-b54e-606141886939",
   "metadata": {},
   "outputs": [],
   "source": [
    "## ファイル読み込み"
   ]
  },
  {
   "cell_type": "code",
   "execution_count": 38,
   "id": "9250dc29-b9c1-4e5c-8575-dd00802e8500",
   "metadata": {},
   "outputs": [],
   "source": [
    "df = spark.read.format(\"csv\") \\\n",
    "        .option(\"inferSchema\", \"True\") \\\n",
    "        .option(\"header\",\"True\") \\\n",
    "        .option(\"sep\",\",\") \\\n",
    "        .load(\"./data/onlineretail.csv\")"
   ]
  },
  {
   "cell_type": "code",
   "execution_count": 6,
   "id": "878a3ad2-4638-44eb-a491-f448c327618a",
   "metadata": {},
   "outputs": [
    {
     "name": "stdout",
     "output_type": "stream",
     "text": [
      "+---------+---------+--------------------+--------+-------------------+---------+----------+--------------+\n",
      "|InvoiceNo|StockCode|         Description|Quantity|        InvoiceDate|UnitPrice|CustomerID|       Country|\n",
      "+---------+---------+--------------------+--------+-------------------+---------+----------+--------------+\n",
      "|   536365|   85123A|WHITE HANGING HEA...|       6|2010-12-01 08:26:00|     2.55|     17850|United Kingdom|\n",
      "|   536365|    71053| WHITE METAL LANTERN|       6|2010-12-01 08:26:00|     3.39|     17850|United Kingdom|\n",
      "|   536365|   84406B|CREAM CUPID HEART...|       8|2010-12-01 08:26:00|     2.75|     17850|United Kingdom|\n",
      "|   536365|   84029G|KNITTED UNION FLA...|       6|2010-12-01 08:26:00|     3.39|     17850|United Kingdom|\n",
      "|   536365|   84029E|RED WOOLLY HOTTIE...|       6|2010-12-01 08:26:00|     3.39|     17850|United Kingdom|\n",
      "|   536365|    22752|SET 7 BABUSHKA NE...|       2|2010-12-01 08:26:00|     7.65|     17850|United Kingdom|\n",
      "|   536365|    21730|GLASS STAR FROSTE...|       6|2010-12-01 08:26:00|     4.25|     17850|United Kingdom|\n",
      "|   536366|    22633|HAND WARMER UNION...|       6|2010-12-01 08:28:00|     1.85|     17850|United Kingdom|\n",
      "|   536366|    22632|HAND WARMER RED P...|       6|2010-12-01 08:28:00|     1.85|     17850|United Kingdom|\n",
      "|   536367|    84879|ASSORTED COLOUR B...|      32|2010-12-01 08:34:00|     1.69|     13047|United Kingdom|\n",
      "|   536367|    22745|POPPY'S PLAYHOUSE...|       6|2010-12-01 08:34:00|      2.1|     13047|United Kingdom|\n",
      "|   536367|    22748|POPPY'S PLAYHOUSE...|       6|2010-12-01 08:34:00|      2.1|     13047|United Kingdom|\n",
      "|   536367|    22749|FELTCRAFT PRINCES...|       8|2010-12-01 08:34:00|     3.75|     13047|United Kingdom|\n",
      "|   536367|    22310|IVORY KNITTED MUG...|       6|2010-12-01 08:34:00|     1.65|     13047|United Kingdom|\n",
      "|   536367|    84969|BOX OF 6 ASSORTED...|       6|2010-12-01 08:34:00|     4.25|     13047|United Kingdom|\n",
      "|   536367|    22623|BOX OF VINTAGE JI...|       3|2010-12-01 08:34:00|     4.95|     13047|United Kingdom|\n",
      "|   536367|    22622|BOX OF VINTAGE AL...|       2|2010-12-01 08:34:00|     9.95|     13047|United Kingdom|\n",
      "|   536367|    21754|HOME BUILDING BLO...|       3|2010-12-01 08:34:00|     5.95|     13047|United Kingdom|\n",
      "|   536367|    21755|LOVE BUILDING BLO...|       3|2010-12-01 08:34:00|     5.95|     13047|United Kingdom|\n",
      "|   536367|    21777|RECIPE BOX WITH M...|       4|2010-12-01 08:34:00|     7.95|     13047|United Kingdom|\n",
      "+---------+---------+--------------------+--------+-------------------+---------+----------+--------------+\n",
      "only showing top 20 rows\n",
      "\n"
     ]
    }
   ],
   "source": [
    "df.show()"
   ]
  },
  {
   "cell_type": "code",
   "execution_count": 7,
   "id": "251d4cb2-d595-48b7-adfa-5480cbe8eb0b",
   "metadata": {},
   "outputs": [
    {
     "name": "stdout",
     "output_type": "stream",
     "text": [
      "root\n",
      " |-- InvoiceNo: string (nullable = true)\n",
      " |-- StockCode: string (nullable = true)\n",
      " |-- Description: string (nullable = true)\n",
      " |-- Quantity: integer (nullable = true)\n",
      " |-- InvoiceDate: timestamp (nullable = true)\n",
      " |-- UnitPrice: double (nullable = true)\n",
      " |-- CustomerID: integer (nullable = true)\n",
      " |-- Country: string (nullable = true)\n",
      "\n"
     ]
    }
   ],
   "source": [
    "df.printSchema()"
   ]
  },
  {
   "cell_type": "code",
   "execution_count": 8,
   "id": "ca8ff5a4-ccd1-42cf-a34a-ef6ebc09c011",
   "metadata": {},
   "outputs": [
    {
     "data": {
      "text/plain": [
       "pyspark.sql.dataframe.DataFrame"
      ]
     },
     "execution_count": 8,
     "metadata": {},
     "output_type": "execute_result"
    }
   ],
   "source": [
    "type(df)"
   ]
  },
  {
   "cell_type": "code",
   "execution_count": 9,
   "id": "c6826950-a7a8-4160-87b8-074197f5aa05",
   "metadata": {},
   "outputs": [],
   "source": [
    "## スキーマ指定してファイル読み込み"
   ]
  },
  {
   "cell_type": "code",
   "execution_count": 11,
   "id": "78d3e6a7-1bc1-421d-982c-75b4ddd2a6ef",
   "metadata": {},
   "outputs": [],
   "source": [
    "from pyspark.sql.types import StructType, StructField, StringType, IntegerType, FloatType, DateType"
   ]
  },
  {
   "cell_type": "code",
   "execution_count": 77,
   "id": "590647f6-24a5-4085-8089-603822e0e7ed",
   "metadata": {},
   "outputs": [],
   "source": [
    "schema = StructType([\n",
    "    StructField(\"InvoiceNo\", StringType(), False),\n",
    "    StructField(\"StockCode\", StringType(), False),\n",
    "    StructField(\"Description\", StringType(), False),\n",
    "    StructField(\"Quantity\", IntegerType(), False),\n",
    "    StructField(\"InvoiceDate\", DateType(), False),\n",
    "    StructField(\"UnitPrice\", FloatType(), False),\n",
    "    StructField(\"CustomerID\", StringType(), False),\n",
    "    StructField(\"Country\", StringType(), False)\n",
    "])"
   ]
  },
  {
   "cell_type": "code",
   "execution_count": 78,
   "id": "49f1f6cc-7908-4ac0-8260-f7a1d3f35492",
   "metadata": {},
   "outputs": [],
   "source": [
    "df = spark.read.format(\"csv\") \\\n",
    "        .option(\"header\",\"True\") \\\n",
    "        .option(\"sep\",\",\") \\\n",
    "        .load(\"./data/onlineretail.csv\", schema=schema)"
   ]
  },
  {
   "cell_type": "code",
   "execution_count": 15,
   "id": "116b5df9-bd5e-49e8-bf63-4618a8adf789",
   "metadata": {},
   "outputs": [
    {
     "name": "stdout",
     "output_type": "stream",
     "text": [
      "+----------+---------+--------------------+--------+-----------+---------+----------+--------------+\n",
      "|InvoinceNo|StockCode|         Description|Quantity|InvoiceDate|UnitPrice|CustomerID|       Country|\n",
      "+----------+---------+--------------------+--------+-----------+---------+----------+--------------+\n",
      "|    536365|   85123A|WHITE HANGING HEA...|       6| 2010-12-01|     2.55|     17850|United Kingdom|\n",
      "|    536365|    71053| WHITE METAL LANTERN|       6| 2010-12-01|     3.39|     17850|United Kingdom|\n",
      "|    536365|   84406B|CREAM CUPID HEART...|       8| 2010-12-01|     2.75|     17850|United Kingdom|\n",
      "|    536365|   84029G|KNITTED UNION FLA...|       6| 2010-12-01|     3.39|     17850|United Kingdom|\n",
      "|    536365|   84029E|RED WOOLLY HOTTIE...|       6| 2010-12-01|     3.39|     17850|United Kingdom|\n",
      "|    536365|    22752|SET 7 BABUSHKA NE...|       2| 2010-12-01|     7.65|     17850|United Kingdom|\n",
      "|    536365|    21730|GLASS STAR FROSTE...|       6| 2010-12-01|     4.25|     17850|United Kingdom|\n",
      "|    536366|    22633|HAND WARMER UNION...|       6| 2010-12-01|     1.85|     17850|United Kingdom|\n",
      "|    536366|    22632|HAND WARMER RED P...|       6| 2010-12-01|     1.85|     17850|United Kingdom|\n",
      "|    536367|    84879|ASSORTED COLOUR B...|      32| 2010-12-01|     1.69|     13047|United Kingdom|\n",
      "|    536367|    22745|POPPY'S PLAYHOUSE...|       6| 2010-12-01|      2.1|     13047|United Kingdom|\n",
      "|    536367|    22748|POPPY'S PLAYHOUSE...|       6| 2010-12-01|      2.1|     13047|United Kingdom|\n",
      "|    536367|    22749|FELTCRAFT PRINCES...|       8| 2010-12-01|     3.75|     13047|United Kingdom|\n",
      "|    536367|    22310|IVORY KNITTED MUG...|       6| 2010-12-01|     1.65|     13047|United Kingdom|\n",
      "|    536367|    84969|BOX OF 6 ASSORTED...|       6| 2010-12-01|     4.25|     13047|United Kingdom|\n",
      "|    536367|    22623|BOX OF VINTAGE JI...|       3| 2010-12-01|     4.95|     13047|United Kingdom|\n",
      "|    536367|    22622|BOX OF VINTAGE AL...|       2| 2010-12-01|     9.95|     13047|United Kingdom|\n",
      "|    536367|    21754|HOME BUILDING BLO...|       3| 2010-12-01|     5.95|     13047|United Kingdom|\n",
      "|    536367|    21755|LOVE BUILDING BLO...|       3| 2010-12-01|     5.95|     13047|United Kingdom|\n",
      "|    536367|    21777|RECIPE BOX WITH M...|       4| 2010-12-01|     7.95|     13047|United Kingdom|\n",
      "+----------+---------+--------------------+--------+-----------+---------+----------+--------------+\n",
      "only showing top 20 rows\n",
      "\n"
     ]
    }
   ],
   "source": [
    "df.show()"
   ]
  },
  {
   "cell_type": "code",
   "execution_count": 17,
   "id": "0e828069-92e1-4911-a982-002ccfbc736e",
   "metadata": {},
   "outputs": [
    {
     "name": "stdout",
     "output_type": "stream",
     "text": [
      "root\n",
      " |-- InvoinceNo: string (nullable = true)\n",
      " |-- StockCode: string (nullable = true)\n",
      " |-- Description: string (nullable = true)\n",
      " |-- Quantity: integer (nullable = true)\n",
      " |-- InvoiceDate: date (nullable = true)\n",
      " |-- UnitPrice: float (nullable = true)\n",
      " |-- CustomerID: string (nullable = true)\n",
      " |-- Country: string (nullable = true)\n",
      "\n"
     ]
    }
   ],
   "source": [
    "df.printSchema()"
   ]
  },
  {
   "cell_type": "code",
   "execution_count": 18,
   "id": "806c82f7-c08a-45c5-8714-dc45f31ef6aa",
   "metadata": {},
   "outputs": [
    {
     "data": {
      "text/plain": [
       "[('InvoinceNo', 'string'),\n",
       " ('StockCode', 'string'),\n",
       " ('Description', 'string'),\n",
       " ('Quantity', 'int'),\n",
       " ('InvoiceDate', 'date'),\n",
       " ('UnitPrice', 'float'),\n",
       " ('CustomerID', 'string'),\n",
       " ('Country', 'string')]"
      ]
     },
     "execution_count": 18,
     "metadata": {},
     "output_type": "execute_result"
    }
   ],
   "source": [
    "df.dtypes"
   ]
  },
  {
   "cell_type": "code",
   "execution_count": 19,
   "id": "6e82a8b3-5733-4685-9f17-87148386f6e6",
   "metadata": {},
   "outputs": [],
   "source": [
    "## Select: 列を選択してデータ抽出"
   ]
  },
  {
   "cell_type": "code",
   "execution_count": 20,
   "id": "49f6382e-5a86-4ce4-8a9a-ae3b19593929",
   "metadata": {},
   "outputs": [
    {
     "name": "stdout",
     "output_type": "stream",
     "text": [
      "+---------+--------------------+\n",
      "|StockCode|         Description|\n",
      "+---------+--------------------+\n",
      "|   85123A|WHITE HANGING HEA...|\n",
      "|    71053| WHITE METAL LANTERN|\n",
      "|   84406B|CREAM CUPID HEART...|\n",
      "|   84029G|KNITTED UNION FLA...|\n",
      "|   84029E|RED WOOLLY HOTTIE...|\n",
      "|    22752|SET 7 BABUSHKA NE...|\n",
      "|    21730|GLASS STAR FROSTE...|\n",
      "|    22633|HAND WARMER UNION...|\n",
      "|    22632|HAND WARMER RED P...|\n",
      "|    84879|ASSORTED COLOUR B...|\n",
      "|    22745|POPPY'S PLAYHOUSE...|\n",
      "|    22748|POPPY'S PLAYHOUSE...|\n",
      "|    22749|FELTCRAFT PRINCES...|\n",
      "|    22310|IVORY KNITTED MUG...|\n",
      "|    84969|BOX OF 6 ASSORTED...|\n",
      "|    22623|BOX OF VINTAGE JI...|\n",
      "|    22622|BOX OF VINTAGE AL...|\n",
      "|    21754|HOME BUILDING BLO...|\n",
      "|    21755|LOVE BUILDING BLO...|\n",
      "|    21777|RECIPE BOX WITH M...|\n",
      "+---------+--------------------+\n",
      "only showing top 20 rows\n",
      "\n"
     ]
    }
   ],
   "source": [
    "df.select('StockCode', 'Description').show()"
   ]
  },
  {
   "cell_type": "code",
   "execution_count": 21,
   "id": "ae01c01d-fff9-4a48-a25c-b5d1d4917ba3",
   "metadata": {},
   "outputs": [
    {
     "data": {
      "text/plain": [
       "541909"
      ]
     },
     "execution_count": 21,
     "metadata": {},
     "output_type": "execute_result"
    }
   ],
   "source": [
    "# 行数カウント\n",
    "df.count()"
   ]
  },
  {
   "cell_type": "code",
   "execution_count": 22,
   "id": "67e5fc90-4d94-419b-896c-af4c315092ba",
   "metadata": {},
   "outputs": [],
   "source": [
    "# filter: 条件を満たすレコードの抽出"
   ]
  },
  {
   "cell_type": "code",
   "execution_count": 23,
   "id": "be37f0e3-b98e-4f86-a386-f14d6594c41e",
   "metadata": {},
   "outputs": [
    {
     "name": "stdout",
     "output_type": "stream",
     "text": [
      "+----------+---------+--------------------+--------+-----------+---------+----------+--------------+\n",
      "|InvoinceNo|StockCode|         Description|Quantity|InvoiceDate|UnitPrice|CustomerID|       Country|\n",
      "+----------+---------+--------------------+--------+-----------+---------+----------+--------------+\n",
      "|    536392|    22827|RUSTIC  SEVENTEEN...|       1| 2010-12-01|    165.0|     13705|United Kingdom|\n",
      "|    536396|    22803|IVORY EMBROIDERED...|       2| 2010-12-01|    35.75|     17850|United Kingdom|\n",
      "|    536406|    22803|IVORY EMBROIDERED...|       2| 2010-12-01|    35.75|     17850|United Kingdom|\n",
      "|    536540|       C2|            CARRIAGE|       1| 2010-12-01|     50.0|     14911|          EIRE|\n",
      "|    536544|    22769|CHALKBOARD KITCHE...|       1| 2010-12-01|    51.02|      null|United Kingdom|\n",
      "|    536544|    22847|BREAD BIN DINER S...|       1| 2010-12-01|     34.0|      null|United Kingdom|\n",
      "|    536544|      DOT|      DOTCOM POSTAGE|       1| 2010-12-01|   569.77|      null|United Kingdom|\n",
      "|    536592|    22503|CABIN BAG VINTAGE...|       1| 2010-12-01|    59.53|      null|United Kingdom|\n",
      "|    536592|    22946|WOODEN ADVENT CAL...|       1| 2010-12-01|     34.0|      null|United Kingdom|\n",
      "|    536592|    22947|WOODEN ADVENT CAL...|       1| 2010-12-01|     34.0|      null|United Kingdom|\n",
      "|    536592|      DOT|      DOTCOM POSTAGE|       1| 2010-12-01|   607.49|      null|United Kingdom|\n",
      "|    536600|    22803|IVORY EMBROIDERED...|       2| 2010-12-02|    35.75|     17850|United Kingdom|\n",
      "|    536676|    21769|VINTAGE POST OFFI...|       1| 2010-12-02|    79.95|     16752|United Kingdom|\n",
      "|    536685|    22803|IVORY EMBROIDERED...|       2| 2010-12-02|    35.75|     17850|United Kingdom|\n",
      "|    536690|    22803|IVORY EMBROIDERED...|       2| 2010-12-02|    35.75|     17850|United Kingdom|\n",
      "|    536750|    22803|IVORY EMBROIDERED...|       2| 2010-12-02|    35.75|     17850|United Kingdom|\n",
      "|    536752|    22803|IVORY EMBROIDERED...|       2| 2010-12-02|    35.75|     17850|United Kingdom|\n",
      "|    536790|    22803|IVORY EMBROIDERED...|       3| 2010-12-02|    35.75|     17850|United Kingdom|\n",
      "|    536835|    22655|VINTAGE RED KITCH...|       1| 2010-12-02|    295.0|     13145|United Kingdom|\n",
      "|    536858|     POST|             POSTAGE|       2| 2010-12-03|     40.0|     13520|   Switzerland|\n",
      "+----------+---------+--------------------+--------+-----------+---------+----------+--------------+\n",
      "only showing top 20 rows\n",
      "\n"
     ]
    }
   ],
   "source": [
    "df.filter(df['UnitPrice'] > 30).show()"
   ]
  },
  {
   "cell_type": "code",
   "execution_count": 25,
   "id": "08a3208b-bf4d-4d6a-ae6a-8a1ee9308fa6",
   "metadata": {},
   "outputs": [
    {
     "name": "stdout",
     "output_type": "stream",
     "text": [
      "+----------+---------+--------------------+--------+-----------+---------+----------+-----------+\n",
      "|InvoinceNo|StockCode|         Description|Quantity|InvoiceDate|UnitPrice|CustomerID|    Country|\n",
      "+----------+---------+--------------------+--------+-----------+---------+----------+-----------+\n",
      "|    536858|    22326|ROUND SNACK BOXES...|      30| 2010-12-03|     2.95|     13520|Switzerland|\n",
      "|    536858|    22554|PLASTERS IN TIN W...|      36| 2010-12-03|     1.65|     13520|Switzerland|\n",
      "|    536858|    21731|RED TOADSTOOL LED...|      24| 2010-12-03|     1.65|     13520|Switzerland|\n",
      "|    536858|    20677|  PINK POLKADOT BOWL|      16| 2010-12-03|     1.25|     13520|Switzerland|\n",
      "|    536858|    20750|RED RETROSPOT MIN...|       2| 2010-12-03|     7.95|     13520|Switzerland|\n",
      "|    536858|     POST|             POSTAGE|       2| 2010-12-03|     40.0|     13520|Switzerland|\n",
      "|    539488|    22837|HOT WATER BOTTLE ...|       8| 2010-12-20|     4.65|     12377|Switzerland|\n",
      "|    539488|    22112|CHOCOLATE HOT WAT...|      16| 2010-12-20|     4.95|     12377|Switzerland|\n",
      "|    539488|    22953|BIRTHDAY BANNER TAPE|      24| 2010-12-20|     1.25|     12377|Switzerland|\n",
      "|    539488|    22813|PACK 3 BOXES BIRD...|      24| 2010-12-20|     1.95|     12377|Switzerland|\n",
      "|    539488|    22314|OFFICE MUG WARMER...|      12| 2010-12-20|     4.95|     12377|Switzerland|\n",
      "|    539488|    22190|      LOCAL CAFE MUG|      12| 2010-12-20|      2.1|     12377|Switzerland|\n",
      "|    539488|    22540|MINI JIGSAW CIRCU...|      24| 2010-12-20|     0.42|     12377|Switzerland|\n",
      "|    539488|    22544|MINI JIGSAW SPACEBOY|      24| 2010-12-20|     0.42|     12377|Switzerland|\n",
      "|    539488|    22546|  MINI JIGSAW PURDEY|      24| 2010-12-20|     0.42|     12377|Switzerland|\n",
      "|    539488|    22545| MINI JIGSAW BUNNIES|      24| 2010-12-20|     0.42|     12377|Switzerland|\n",
      "|    539488|    22539|MINI JIGSAW DOLLY...|      24| 2010-12-20|     0.42|     12377|Switzerland|\n",
      "|    539488|    22538|MINI JIGSAW GO TO...|      24| 2010-12-20|     0.42|     12377|Switzerland|\n",
      "|    539488|    22555|PLASTERS IN TIN S...|      12| 2010-12-20|     1.65|     12377|Switzerland|\n",
      "|    539488|    22556|PLASTERS IN TIN C...|      12| 2010-12-20|     1.65|     12377|Switzerland|\n",
      "+----------+---------+--------------------+--------+-----------+---------+----------+-----------+\n",
      "only showing top 20 rows\n",
      "\n"
     ]
    }
   ],
   "source": [
    "df.filter(df['Country'] == 'Switzerland').show()"
   ]
  },
  {
   "cell_type": "code",
   "execution_count": 26,
   "id": "06f42495-5530-492f-b63d-2cde5f87dfcc",
   "metadata": {},
   "outputs": [
    {
     "data": {
      "text/plain": [
       "2002"
      ]
     },
     "execution_count": 26,
     "metadata": {},
     "output_type": "execute_result"
    }
   ],
   "source": [
    "df.filter(df['Country'] == 'Switzerland').count()"
   ]
  },
  {
   "cell_type": "code",
   "execution_count": 27,
   "id": "77f61e53-4800-40ea-b326-6575bfd355ef",
   "metadata": {},
   "outputs": [],
   "source": [
    "# where: 条件を満たすレコードの抽出"
   ]
  },
  {
   "cell_type": "code",
   "execution_count": 29,
   "id": "a3d1f77a-0e8a-40ad-b37b-76f1087eabec",
   "metadata": {},
   "outputs": [
    {
     "name": "stdout",
     "output_type": "stream",
     "text": [
      "+----------+---------+-----------------------------------+--------+-----------+---------+----------+--------------+\n",
      "|InvoinceNo|StockCode|Description                        |Quantity|InvoiceDate|UnitPrice|CustomerID|Country       |\n",
      "+----------+---------+-----------------------------------+--------+-----------+---------+----------+--------------+\n",
      "|536365    |84029G   |KNITTED UNION FLAG HOT WATER BOTTLE|6       |2010-12-01 |3.39     |17850     |United Kingdom|\n",
      "|536373    |84029G   |KNITTED UNION FLAG HOT WATER BOTTLE|6       |2010-12-01 |3.39     |17850     |United Kingdom|\n",
      "|536375    |84029G   |KNITTED UNION FLAG HOT WATER BOTTLE|6       |2010-12-01 |3.39     |17850     |United Kingdom|\n",
      "|536376    |22114    |HOT WATER BOTTLE TEA AND SYMPATHY  |48      |2010-12-01 |3.45     |15291     |United Kingdom|\n",
      "|536390    |21485    |RETROSPOT HEART HOT WATER BOTTLE   |24      |2010-12-01 |4.25     |17511     |United Kingdom|\n",
      "|536390    |84029G   |KNITTED UNION FLAG HOT WATER BOTTLE|24      |2010-12-01 |3.39     |17511     |United Kingdom|\n",
      "|536390    |84030E   |ENGLISH ROSE HOT WATER BOTTLE      |24      |2010-12-01 |3.75     |17511     |United Kingdom|\n",
      "|C536391   |21484    |CHICK GREY HOT WATER BOTTLE        |-12     |2010-12-01 |3.45     |17548     |United Kingdom|\n",
      "|536394    |21485    |RETROSPOT HEART HOT WATER BOTTLE   |12      |2010-12-01 |4.95     |13408     |United Kingdom|\n",
      "|536395    |21484    |CHICK GREY HOT WATER BOTTLE        |8       |2010-12-01 |3.45     |13767     |United Kingdom|\n",
      "|536395    |22114    |HOT WATER BOTTLE TEA AND SYMPATHY  |8       |2010-12-01 |3.95     |13767     |United Kingdom|\n",
      "|536396    |84029G   |KNITTED UNION FLAG HOT WATER BOTTLE|6       |2010-12-01 |3.39     |17850     |United Kingdom|\n",
      "|536398    |22114    |HOT WATER BOTTLE TEA AND SYMPATHY  |4       |2010-12-01 |3.95     |13448     |United Kingdom|\n",
      "|536398    |22835    |HOT WATER BOTTLE I AM SO POORLY    |8       |2010-12-01 |4.65     |13448     |United Kingdom|\n",
      "|536398    |22112    |CHOCOLATE HOT WATER BOTTLE         |9       |2010-12-01 |4.95     |13448     |United Kingdom|\n",
      "|536398    |21479    |WHITE SKULL HOT WATER BOTTLE       |4       |2010-12-01 |3.75     |13448     |United Kingdom|\n",
      "|536398    |22111    |SCOTTIE DOG HOT WATER BOTTLE       |9       |2010-12-01 |4.95     |13448     |United Kingdom|\n",
      "|536401    |22110    |BIRD HOUSE HOT WATER BOTTLE        |1       |2010-12-01 |2.55     |15862     |United Kingdom|\n",
      "|536401    |84030E   |ENGLISH ROSE HOT WATER BOTTLE      |1       |2010-12-01 |4.25     |15862     |United Kingdom|\n",
      "|536402    |22837    |HOT WATER BOTTLE BABUSHKA          |36      |2010-12-01 |4.25     |15513     |United Kingdom|\n",
      "+----------+---------+-----------------------------------+--------+-----------+---------+----------+--------------+\n",
      "only showing top 20 rows\n",
      "\n"
     ]
    }
   ],
   "source": [
    "df.where(df['Description'].contains(\"WATER\")).show(truncate=False)"
   ]
  },
  {
   "cell_type": "code",
   "execution_count": 31,
   "id": "2245a2ec-8bbe-4bbc-ba8b-21f4392b2536",
   "metadata": {},
   "outputs": [],
   "source": [
    "# 列の作成と削除"
   ]
  },
  {
   "cell_type": "code",
   "execution_count": 32,
   "id": "847659ab-df0b-485d-a42c-1b62ee3ca552",
   "metadata": {},
   "outputs": [
    {
     "name": "stdout",
     "output_type": "stream",
     "text": [
      "+----------+---------+--------------------+--------+-----------+---------+----------+--------------+---------+\n",
      "|InvoinceNo|StockCode|         Description|Quantity|InvoiceDate|UnitPrice|CustomerID|       Country|   Amount|\n",
      "+----------+---------+--------------------+--------+-----------+---------+----------+--------------+---------+\n",
      "|    536365|   85123A|WHITE HANGING HEA...|       6| 2010-12-01|     2.55|     17850|United Kingdom|15.299999|\n",
      "|    536365|    71053| WHITE METAL LANTERN|       6| 2010-12-01|     3.39|     17850|United Kingdom|    20.34|\n",
      "|    536365|   84406B|CREAM CUPID HEART...|       8| 2010-12-01|     2.75|     17850|United Kingdom|     22.0|\n",
      "|    536365|   84029G|KNITTED UNION FLA...|       6| 2010-12-01|     3.39|     17850|United Kingdom|    20.34|\n",
      "|    536365|   84029E|RED WOOLLY HOTTIE...|       6| 2010-12-01|     3.39|     17850|United Kingdom|    20.34|\n",
      "|    536365|    22752|SET 7 BABUSHKA NE...|       2| 2010-12-01|     7.65|     17850|United Kingdom|     15.3|\n",
      "|    536365|    21730|GLASS STAR FROSTE...|       6| 2010-12-01|     4.25|     17850|United Kingdom|     25.5|\n",
      "|    536366|    22633|HAND WARMER UNION...|       6| 2010-12-01|     1.85|     17850|United Kingdom|     11.1|\n",
      "|    536366|    22632|HAND WARMER RED P...|       6| 2010-12-01|     1.85|     17850|United Kingdom|     11.1|\n",
      "|    536367|    84879|ASSORTED COLOUR B...|      32| 2010-12-01|     1.69|     13047|United Kingdom|    54.08|\n",
      "|    536367|    22745|POPPY'S PLAYHOUSE...|       6| 2010-12-01|      2.1|     13047|United Kingdom|12.599999|\n",
      "|    536367|    22748|POPPY'S PLAYHOUSE...|       6| 2010-12-01|      2.1|     13047|United Kingdom|12.599999|\n",
      "|    536367|    22749|FELTCRAFT PRINCES...|       8| 2010-12-01|     3.75|     13047|United Kingdom|     30.0|\n",
      "|    536367|    22310|IVORY KNITTED MUG...|       6| 2010-12-01|     1.65|     13047|United Kingdom|      9.9|\n",
      "|    536367|    84969|BOX OF 6 ASSORTED...|       6| 2010-12-01|     4.25|     13047|United Kingdom|     25.5|\n",
      "|    536367|    22623|BOX OF VINTAGE JI...|       3| 2010-12-01|     4.95|     13047|United Kingdom|14.849999|\n",
      "|    536367|    22622|BOX OF VINTAGE AL...|       2| 2010-12-01|     9.95|     13047|United Kingdom|     19.9|\n",
      "|    536367|    21754|HOME BUILDING BLO...|       3| 2010-12-01|     5.95|     13047|United Kingdom|17.849998|\n",
      "|    536367|    21755|LOVE BUILDING BLO...|       3| 2010-12-01|     5.95|     13047|United Kingdom|17.849998|\n",
      "|    536367|    21777|RECIPE BOX WITH M...|       4| 2010-12-01|     7.95|     13047|United Kingdom|     31.8|\n",
      "+----------+---------+--------------------+--------+-----------+---------+----------+--------------+---------+\n",
      "only showing top 20 rows\n",
      "\n"
     ]
    }
   ],
   "source": [
    "# withColumn\n",
    "df.withColumn(\"Amount\", df['UnitPrice'] * df['Quantity']).show()"
   ]
  },
  {
   "cell_type": "code",
   "execution_count": 33,
   "id": "2fdfcea1-16d6-47f8-94c4-e2b0ed874e30",
   "metadata": {},
   "outputs": [
    {
     "name": "stdout",
     "output_type": "stream",
     "text": [
      "+----------+---------+--------------------+--------+-----------+---------+----------+--------------+\n",
      "|InvoinceNo|StockCode|         Description|Quantity|InvoiceDate|UnitPrice|CustomerID|       Country|\n",
      "+----------+---------+--------------------+--------+-----------+---------+----------+--------------+\n",
      "|    536365|   85123A|WHITE HANGING HEA...|       6| 2010-12-01|     2.55|     17850|United Kingdom|\n",
      "|    536365|    71053| WHITE METAL LANTERN|       6| 2010-12-01|     3.39|     17850|United Kingdom|\n",
      "|    536365|   84406B|CREAM CUPID HEART...|       8| 2010-12-01|     2.75|     17850|United Kingdom|\n",
      "|    536365|   84029G|KNITTED UNION FLA...|       6| 2010-12-01|     3.39|     17850|United Kingdom|\n",
      "|    536365|   84029E|RED WOOLLY HOTTIE...|       6| 2010-12-01|     3.39|     17850|United Kingdom|\n",
      "|    536365|    22752|SET 7 BABUSHKA NE...|       2| 2010-12-01|     7.65|     17850|United Kingdom|\n",
      "|    536365|    21730|GLASS STAR FROSTE...|       6| 2010-12-01|     4.25|     17850|United Kingdom|\n",
      "|    536366|    22633|HAND WARMER UNION...|       6| 2010-12-01|     1.85|     17850|United Kingdom|\n",
      "|    536366|    22632|HAND WARMER RED P...|       6| 2010-12-01|     1.85|     17850|United Kingdom|\n",
      "|    536367|    84879|ASSORTED COLOUR B...|      32| 2010-12-01|     1.69|     13047|United Kingdom|\n",
      "|    536367|    22745|POPPY'S PLAYHOUSE...|       6| 2010-12-01|      2.1|     13047|United Kingdom|\n",
      "|    536367|    22748|POPPY'S PLAYHOUSE...|       6| 2010-12-01|      2.1|     13047|United Kingdom|\n",
      "|    536367|    22749|FELTCRAFT PRINCES...|       8| 2010-12-01|     3.75|     13047|United Kingdom|\n",
      "|    536367|    22310|IVORY KNITTED MUG...|       6| 2010-12-01|     1.65|     13047|United Kingdom|\n",
      "|    536367|    84969|BOX OF 6 ASSORTED...|       6| 2010-12-01|     4.25|     13047|United Kingdom|\n",
      "|    536367|    22623|BOX OF VINTAGE JI...|       3| 2010-12-01|     4.95|     13047|United Kingdom|\n",
      "|    536367|    22622|BOX OF VINTAGE AL...|       2| 2010-12-01|     9.95|     13047|United Kingdom|\n",
      "|    536367|    21754|HOME BUILDING BLO...|       3| 2010-12-01|     5.95|     13047|United Kingdom|\n",
      "|    536367|    21755|LOVE BUILDING BLO...|       3| 2010-12-01|     5.95|     13047|United Kingdom|\n",
      "|    536367|    21777|RECIPE BOX WITH M...|       4| 2010-12-01|     7.95|     13047|United Kingdom|\n",
      "+----------+---------+--------------------+--------+-----------+---------+----------+--------------+\n",
      "only showing top 20 rows\n",
      "\n"
     ]
    }
   ],
   "source": [
    "df.show()"
   ]
  },
  {
   "cell_type": "code",
   "execution_count": 39,
   "id": "bfeea584-1ef3-496a-b54b-95e38decad5e",
   "metadata": {},
   "outputs": [],
   "source": [
    "df = df.withColumn(\"Amount\", df['UnitPrice'] * df['Quantity'])"
   ]
  },
  {
   "cell_type": "code",
   "execution_count": 40,
   "id": "5fec4369-5c34-455c-86c6-8cea945908e0",
   "metadata": {},
   "outputs": [
    {
     "name": "stdout",
     "output_type": "stream",
     "text": [
      "+---------+---------+--------------------+--------+-------------------+---------+----------+--------------+------------------+\n",
      "|InvoiceNo|StockCode|         Description|Quantity|        InvoiceDate|UnitPrice|CustomerID|       Country|            Amount|\n",
      "+---------+---------+--------------------+--------+-------------------+---------+----------+--------------+------------------+\n",
      "|   536365|   85123A|WHITE HANGING HEA...|       6|2010-12-01 08:26:00|     2.55|     17850|United Kingdom|15.299999999999999|\n",
      "|   536365|    71053| WHITE METAL LANTERN|       6|2010-12-01 08:26:00|     3.39|     17850|United Kingdom|             20.34|\n",
      "|   536365|   84406B|CREAM CUPID HEART...|       8|2010-12-01 08:26:00|     2.75|     17850|United Kingdom|              22.0|\n",
      "|   536365|   84029G|KNITTED UNION FLA...|       6|2010-12-01 08:26:00|     3.39|     17850|United Kingdom|             20.34|\n",
      "|   536365|   84029E|RED WOOLLY HOTTIE...|       6|2010-12-01 08:26:00|     3.39|     17850|United Kingdom|             20.34|\n",
      "|   536365|    22752|SET 7 BABUSHKA NE...|       2|2010-12-01 08:26:00|     7.65|     17850|United Kingdom|              15.3|\n",
      "|   536365|    21730|GLASS STAR FROSTE...|       6|2010-12-01 08:26:00|     4.25|     17850|United Kingdom|              25.5|\n",
      "|   536366|    22633|HAND WARMER UNION...|       6|2010-12-01 08:28:00|     1.85|     17850|United Kingdom|11.100000000000001|\n",
      "|   536366|    22632|HAND WARMER RED P...|       6|2010-12-01 08:28:00|     1.85|     17850|United Kingdom|11.100000000000001|\n",
      "|   536367|    84879|ASSORTED COLOUR B...|      32|2010-12-01 08:34:00|     1.69|     13047|United Kingdom|             54.08|\n",
      "|   536367|    22745|POPPY'S PLAYHOUSE...|       6|2010-12-01 08:34:00|      2.1|     13047|United Kingdom|12.600000000000001|\n",
      "|   536367|    22748|POPPY'S PLAYHOUSE...|       6|2010-12-01 08:34:00|      2.1|     13047|United Kingdom|12.600000000000001|\n",
      "|   536367|    22749|FELTCRAFT PRINCES...|       8|2010-12-01 08:34:00|     3.75|     13047|United Kingdom|              30.0|\n",
      "|   536367|    22310|IVORY KNITTED MUG...|       6|2010-12-01 08:34:00|     1.65|     13047|United Kingdom| 9.899999999999999|\n",
      "|   536367|    84969|BOX OF 6 ASSORTED...|       6|2010-12-01 08:34:00|     4.25|     13047|United Kingdom|              25.5|\n",
      "|   536367|    22623|BOX OF VINTAGE JI...|       3|2010-12-01 08:34:00|     4.95|     13047|United Kingdom|14.850000000000001|\n",
      "|   536367|    22622|BOX OF VINTAGE AL...|       2|2010-12-01 08:34:00|     9.95|     13047|United Kingdom|              19.9|\n",
      "|   536367|    21754|HOME BUILDING BLO...|       3|2010-12-01 08:34:00|     5.95|     13047|United Kingdom|             17.85|\n",
      "|   536367|    21755|LOVE BUILDING BLO...|       3|2010-12-01 08:34:00|     5.95|     13047|United Kingdom|             17.85|\n",
      "|   536367|    21777|RECIPE BOX WITH M...|       4|2010-12-01 08:34:00|     7.95|     13047|United Kingdom|              31.8|\n",
      "+---------+---------+--------------------+--------+-------------------+---------+----------+--------------+------------------+\n",
      "only showing top 20 rows\n",
      "\n"
     ]
    }
   ],
   "source": [
    "df.show()"
   ]
  },
  {
   "cell_type": "code",
   "execution_count": 41,
   "id": "aa47bd04-17e1-4c53-b22d-8f8da95f307f",
   "metadata": {},
   "outputs": [],
   "source": [
    "# 列の削除"
   ]
  },
  {
   "cell_type": "code",
   "execution_count": 44,
   "id": "86f3d76a-918d-41c7-896e-d08cc1070f3c",
   "metadata": {},
   "outputs": [
    {
     "name": "stdout",
     "output_type": "stream",
     "text": [
      "+---------+---------+--------------------+--------+-------------------+---------+----------+--------------+\n",
      "|InvoiceNo|StockCode|         Description|Quantity|        InvoiceDate|UnitPrice|CustomerID|       Country|\n",
      "+---------+---------+--------------------+--------+-------------------+---------+----------+--------------+\n",
      "|   536365|   85123A|WHITE HANGING HEA...|       6|2010-12-01 08:26:00|     2.55|     17850|United Kingdom|\n",
      "|   536365|    71053| WHITE METAL LANTERN|       6|2010-12-01 08:26:00|     3.39|     17850|United Kingdom|\n",
      "|   536365|   84406B|CREAM CUPID HEART...|       8|2010-12-01 08:26:00|     2.75|     17850|United Kingdom|\n",
      "|   536365|   84029G|KNITTED UNION FLA...|       6|2010-12-01 08:26:00|     3.39|     17850|United Kingdom|\n",
      "|   536365|   84029E|RED WOOLLY HOTTIE...|       6|2010-12-01 08:26:00|     3.39|     17850|United Kingdom|\n",
      "|   536365|    22752|SET 7 BABUSHKA NE...|       2|2010-12-01 08:26:00|     7.65|     17850|United Kingdom|\n",
      "|   536365|    21730|GLASS STAR FROSTE...|       6|2010-12-01 08:26:00|     4.25|     17850|United Kingdom|\n",
      "|   536366|    22633|HAND WARMER UNION...|       6|2010-12-01 08:28:00|     1.85|     17850|United Kingdom|\n",
      "|   536366|    22632|HAND WARMER RED P...|       6|2010-12-01 08:28:00|     1.85|     17850|United Kingdom|\n",
      "|   536367|    84879|ASSORTED COLOUR B...|      32|2010-12-01 08:34:00|     1.69|     13047|United Kingdom|\n",
      "|   536367|    22745|POPPY'S PLAYHOUSE...|       6|2010-12-01 08:34:00|      2.1|     13047|United Kingdom|\n",
      "|   536367|    22748|POPPY'S PLAYHOUSE...|       6|2010-12-01 08:34:00|      2.1|     13047|United Kingdom|\n",
      "|   536367|    22749|FELTCRAFT PRINCES...|       8|2010-12-01 08:34:00|     3.75|     13047|United Kingdom|\n",
      "|   536367|    22310|IVORY KNITTED MUG...|       6|2010-12-01 08:34:00|     1.65|     13047|United Kingdom|\n",
      "|   536367|    84969|BOX OF 6 ASSORTED...|       6|2010-12-01 08:34:00|     4.25|     13047|United Kingdom|\n",
      "|   536367|    22623|BOX OF VINTAGE JI...|       3|2010-12-01 08:34:00|     4.95|     13047|United Kingdom|\n",
      "|   536367|    22622|BOX OF VINTAGE AL...|       2|2010-12-01 08:34:00|     9.95|     13047|United Kingdom|\n",
      "|   536367|    21754|HOME BUILDING BLO...|       3|2010-12-01 08:34:00|     5.95|     13047|United Kingdom|\n",
      "|   536367|    21755|LOVE BUILDING BLO...|       3|2010-12-01 08:34:00|     5.95|     13047|United Kingdom|\n",
      "|   536367|    21777|RECIPE BOX WITH M...|       4|2010-12-01 08:34:00|     7.95|     13047|United Kingdom|\n",
      "+---------+---------+--------------------+--------+-------------------+---------+----------+--------------+\n",
      "only showing top 20 rows\n",
      "\n"
     ]
    }
   ],
   "source": [
    "df.drop('Amount').show()"
   ]
  },
  {
   "cell_type": "code",
   "execution_count": 45,
   "id": "19cb19bc-9499-4a14-b8d2-a46fdd5b15dc",
   "metadata": {},
   "outputs": [
    {
     "name": "stdout",
     "output_type": "stream",
     "text": [
      "+---------+---------+--------------------+--------+-------------------+---------+----------+--------------+\n",
      "|InvoiceNo|StockCode|         Description|Quantity|        InvoiceDate|UnitPrice|CustomerID|       Country|\n",
      "+---------+---------+--------------------+--------+-------------------+---------+----------+--------------+\n",
      "|   536365|   85123A|WHITE HANGING HEA...|       6|2010-12-01 08:26:00|     2.55|     17850|United Kingdom|\n",
      "|   536365|    71053| WHITE METAL LANTERN|       6|2010-12-01 08:26:00|     3.39|     17850|United Kingdom|\n",
      "|   536365|   84406B|CREAM CUPID HEART...|       8|2010-12-01 08:26:00|     2.75|     17850|United Kingdom|\n",
      "|   536365|   84029G|KNITTED UNION FLA...|       6|2010-12-01 08:26:00|     3.39|     17850|United Kingdom|\n",
      "|   536365|   84029E|RED WOOLLY HOTTIE...|       6|2010-12-01 08:26:00|     3.39|     17850|United Kingdom|\n",
      "|   536365|    22752|SET 7 BABUSHKA NE...|       2|2010-12-01 08:26:00|     7.65|     17850|United Kingdom|\n",
      "|   536365|    21730|GLASS STAR FROSTE...|       6|2010-12-01 08:26:00|     4.25|     17850|United Kingdom|\n",
      "|   536366|    22633|HAND WARMER UNION...|       6|2010-12-01 08:28:00|     1.85|     17850|United Kingdom|\n",
      "|   536366|    22632|HAND WARMER RED P...|       6|2010-12-01 08:28:00|     1.85|     17850|United Kingdom|\n",
      "|   536367|    84879|ASSORTED COLOUR B...|      32|2010-12-01 08:34:00|     1.69|     13047|United Kingdom|\n",
      "|   536367|    22745|POPPY'S PLAYHOUSE...|       6|2010-12-01 08:34:00|      2.1|     13047|United Kingdom|\n",
      "|   536367|    22748|POPPY'S PLAYHOUSE...|       6|2010-12-01 08:34:00|      2.1|     13047|United Kingdom|\n",
      "|   536367|    22749|FELTCRAFT PRINCES...|       8|2010-12-01 08:34:00|     3.75|     13047|United Kingdom|\n",
      "|   536367|    22310|IVORY KNITTED MUG...|       6|2010-12-01 08:34:00|     1.65|     13047|United Kingdom|\n",
      "|   536367|    84969|BOX OF 6 ASSORTED...|       6|2010-12-01 08:34:00|     4.25|     13047|United Kingdom|\n",
      "|   536367|    22623|BOX OF VINTAGE JI...|       3|2010-12-01 08:34:00|     4.95|     13047|United Kingdom|\n",
      "|   536367|    22622|BOX OF VINTAGE AL...|       2|2010-12-01 08:34:00|     9.95|     13047|United Kingdom|\n",
      "|   536367|    21754|HOME BUILDING BLO...|       3|2010-12-01 08:34:00|     5.95|     13047|United Kingdom|\n",
      "|   536367|    21755|LOVE BUILDING BLO...|       3|2010-12-01 08:34:00|     5.95|     13047|United Kingdom|\n",
      "|   536367|    21777|RECIPE BOX WITH M...|       4|2010-12-01 08:34:00|     7.95|     13047|United Kingdom|\n",
      "+---------+---------+--------------------+--------+-------------------+---------+----------+--------------+\n",
      "only showing top 20 rows\n",
      "\n"
     ]
    }
   ],
   "source": [
    "df = df.drop('Amount')\n",
    "df.show()"
   ]
  },
  {
   "cell_type": "code",
   "execution_count": 46,
   "id": "f3a817dd-4bc6-4664-a28c-0b4b96767907",
   "metadata": {},
   "outputs": [
    {
     "name": "stdout",
     "output_type": "stream",
     "text": [
      "+--------------------+--------+-------------------+---------+----------+--------------+\n",
      "|         Description|Quantity|        InvoiceDate|UnitPrice|CustomerID|       Country|\n",
      "+--------------------+--------+-------------------+---------+----------+--------------+\n",
      "|WHITE HANGING HEA...|       6|2010-12-01 08:26:00|     2.55|     17850|United Kingdom|\n",
      "| WHITE METAL LANTERN|       6|2010-12-01 08:26:00|     3.39|     17850|United Kingdom|\n",
      "|CREAM CUPID HEART...|       8|2010-12-01 08:26:00|     2.75|     17850|United Kingdom|\n",
      "|KNITTED UNION FLA...|       6|2010-12-01 08:26:00|     3.39|     17850|United Kingdom|\n",
      "|RED WOOLLY HOTTIE...|       6|2010-12-01 08:26:00|     3.39|     17850|United Kingdom|\n",
      "|SET 7 BABUSHKA NE...|       2|2010-12-01 08:26:00|     7.65|     17850|United Kingdom|\n",
      "|GLASS STAR FROSTE...|       6|2010-12-01 08:26:00|     4.25|     17850|United Kingdom|\n",
      "|HAND WARMER UNION...|       6|2010-12-01 08:28:00|     1.85|     17850|United Kingdom|\n",
      "|HAND WARMER RED P...|       6|2010-12-01 08:28:00|     1.85|     17850|United Kingdom|\n",
      "|ASSORTED COLOUR B...|      32|2010-12-01 08:34:00|     1.69|     13047|United Kingdom|\n",
      "|POPPY'S PLAYHOUSE...|       6|2010-12-01 08:34:00|      2.1|     13047|United Kingdom|\n",
      "|POPPY'S PLAYHOUSE...|       6|2010-12-01 08:34:00|      2.1|     13047|United Kingdom|\n",
      "|FELTCRAFT PRINCES...|       8|2010-12-01 08:34:00|     3.75|     13047|United Kingdom|\n",
      "|IVORY KNITTED MUG...|       6|2010-12-01 08:34:00|     1.65|     13047|United Kingdom|\n",
      "|BOX OF 6 ASSORTED...|       6|2010-12-01 08:34:00|     4.25|     13047|United Kingdom|\n",
      "|BOX OF VINTAGE JI...|       3|2010-12-01 08:34:00|     4.95|     13047|United Kingdom|\n",
      "|BOX OF VINTAGE AL...|       2|2010-12-01 08:34:00|     9.95|     13047|United Kingdom|\n",
      "|HOME BUILDING BLO...|       3|2010-12-01 08:34:00|     5.95|     13047|United Kingdom|\n",
      "|LOVE BUILDING BLO...|       3|2010-12-01 08:34:00|     5.95|     13047|United Kingdom|\n",
      "|RECIPE BOX WITH M...|       4|2010-12-01 08:34:00|     7.95|     13047|United Kingdom|\n",
      "+--------------------+--------+-------------------+---------+----------+--------------+\n",
      "only showing top 20 rows\n",
      "\n"
     ]
    }
   ],
   "source": [
    "df.drop(\"InvoiceNo\", \"StockCode\").show()"
   ]
  },
  {
   "cell_type": "code",
   "execution_count": 47,
   "id": "e7d3c3f0-a8c0-4787-a6b2-2e37dcd73007",
   "metadata": {},
   "outputs": [],
   "source": [
    "# 列名の変更\n",
    "# withColumnRenamed"
   ]
  },
  {
   "cell_type": "code",
   "execution_count": 48,
   "id": "b83b0386-9d09-4ab7-8dc0-64df203cc677",
   "metadata": {},
   "outputs": [
    {
     "name": "stdout",
     "output_type": "stream",
     "text": [
      "+---------+---------+--------------------+--------+-------------------+---------+----------+--------------+\n",
      "|InvoiceNo|StockCode|         Description|Quantity|        InvoiceDate|UnitPrice|CustomerID|  Country_name|\n",
      "+---------+---------+--------------------+--------+-------------------+---------+----------+--------------+\n",
      "|   536365|   85123A|WHITE HANGING HEA...|       6|2010-12-01 08:26:00|     2.55|     17850|United Kingdom|\n",
      "|   536365|    71053| WHITE METAL LANTERN|       6|2010-12-01 08:26:00|     3.39|     17850|United Kingdom|\n",
      "|   536365|   84406B|CREAM CUPID HEART...|       8|2010-12-01 08:26:00|     2.75|     17850|United Kingdom|\n",
      "|   536365|   84029G|KNITTED UNION FLA...|       6|2010-12-01 08:26:00|     3.39|     17850|United Kingdom|\n",
      "|   536365|   84029E|RED WOOLLY HOTTIE...|       6|2010-12-01 08:26:00|     3.39|     17850|United Kingdom|\n",
      "|   536365|    22752|SET 7 BABUSHKA NE...|       2|2010-12-01 08:26:00|     7.65|     17850|United Kingdom|\n",
      "|   536365|    21730|GLASS STAR FROSTE...|       6|2010-12-01 08:26:00|     4.25|     17850|United Kingdom|\n",
      "|   536366|    22633|HAND WARMER UNION...|       6|2010-12-01 08:28:00|     1.85|     17850|United Kingdom|\n",
      "|   536366|    22632|HAND WARMER RED P...|       6|2010-12-01 08:28:00|     1.85|     17850|United Kingdom|\n",
      "|   536367|    84879|ASSORTED COLOUR B...|      32|2010-12-01 08:34:00|     1.69|     13047|United Kingdom|\n",
      "|   536367|    22745|POPPY'S PLAYHOUSE...|       6|2010-12-01 08:34:00|      2.1|     13047|United Kingdom|\n",
      "|   536367|    22748|POPPY'S PLAYHOUSE...|       6|2010-12-01 08:34:00|      2.1|     13047|United Kingdom|\n",
      "|   536367|    22749|FELTCRAFT PRINCES...|       8|2010-12-01 08:34:00|     3.75|     13047|United Kingdom|\n",
      "|   536367|    22310|IVORY KNITTED MUG...|       6|2010-12-01 08:34:00|     1.65|     13047|United Kingdom|\n",
      "|   536367|    84969|BOX OF 6 ASSORTED...|       6|2010-12-01 08:34:00|     4.25|     13047|United Kingdom|\n",
      "|   536367|    22623|BOX OF VINTAGE JI...|       3|2010-12-01 08:34:00|     4.95|     13047|United Kingdom|\n",
      "|   536367|    22622|BOX OF VINTAGE AL...|       2|2010-12-01 08:34:00|     9.95|     13047|United Kingdom|\n",
      "|   536367|    21754|HOME BUILDING BLO...|       3|2010-12-01 08:34:00|     5.95|     13047|United Kingdom|\n",
      "|   536367|    21755|LOVE BUILDING BLO...|       3|2010-12-01 08:34:00|     5.95|     13047|United Kingdom|\n",
      "|   536367|    21777|RECIPE BOX WITH M...|       4|2010-12-01 08:34:00|     7.95|     13047|United Kingdom|\n",
      "+---------+---------+--------------------+--------+-------------------+---------+----------+--------------+\n",
      "only showing top 20 rows\n",
      "\n"
     ]
    }
   ],
   "source": [
    "df.withColumnRenamed(\"Country\", \"Country_name\").show()"
   ]
  },
  {
   "cell_type": "code",
   "execution_count": 50,
   "id": "ee08efcc-68ae-4ca4-bd1d-3e3b23cd6f7b",
   "metadata": {},
   "outputs": [
    {
     "data": {
      "text/plain": [
       "['InvoiceNo',\n",
       " 'StockCode',\n",
       " 'Description',\n",
       " 'Quantity',\n",
       " 'InvoiceDate',\n",
       " 'UnitPrice',\n",
       " 'CustomerID',\n",
       " 'Country_name']"
      ]
     },
     "execution_count": 50,
     "metadata": {},
     "output_type": "execute_result"
    }
   ],
   "source": [
    "df.withColumnRenamed(\"Country\", \"Country_name\").columns"
   ]
  },
  {
   "cell_type": "code",
   "execution_count": 51,
   "id": "6a248abb-609c-4436-8435-8eddf0f46fb2",
   "metadata": {},
   "outputs": [],
   "source": [
    "# キャスト 型変換"
   ]
  },
  {
   "cell_type": "code",
   "execution_count": 52,
   "id": "dd7827aa-0ffb-4218-9cab-d4b3ce043ba2",
   "metadata": {},
   "outputs": [
    {
     "data": {
      "text/plain": [
       "[('InvoiceNo', 'string'),\n",
       " ('StockCode', 'string'),\n",
       " ('Description', 'string'),\n",
       " ('Quantity', 'int'),\n",
       " ('InvoiceDate', 'timestamp'),\n",
       " ('UnitPrice', 'double'),\n",
       " ('CustomerID', 'int'),\n",
       " ('Country', 'string')]"
      ]
     },
     "execution_count": 52,
     "metadata": {},
     "output_type": "execute_result"
    }
   ],
   "source": [
    "df.dtypes"
   ]
  },
  {
   "cell_type": "code",
   "execution_count": 53,
   "id": "3e58f6a4-a2d7-4f98-b0e7-254135cc87ba",
   "metadata": {},
   "outputs": [],
   "source": [
    "# cast"
   ]
  },
  {
   "cell_type": "code",
   "execution_count": 55,
   "id": "c9847feb-edaf-44dc-b367-38f4fa1a0a4c",
   "metadata": {},
   "outputs": [
    {
     "data": {
      "text/plain": [
       "[('InvoiceNo', 'string'),\n",
       " ('StockCode', 'string'),\n",
       " ('Description', 'string'),\n",
       " ('Quantity', 'float'),\n",
       " ('InvoiceDate', 'timestamp'),\n",
       " ('UnitPrice', 'double'),\n",
       " ('CustomerID', 'int'),\n",
       " ('Country', 'string')]"
      ]
     },
     "execution_count": 55,
     "metadata": {},
     "output_type": "execute_result"
    }
   ],
   "source": [
    "df.withColumn('Quantity', df['Quantity'].cast(\"float\")).dtypes"
   ]
  },
  {
   "cell_type": "code",
   "execution_count": 56,
   "id": "0026b656-4391-4709-9e18-241b0e6765f4",
   "metadata": {},
   "outputs": [],
   "source": [
    "# 日付の処理"
   ]
  },
  {
   "cell_type": "code",
   "execution_count": 57,
   "id": "f6f58a8d-ebc8-4dc5-8dd1-d565bf34d261",
   "metadata": {},
   "outputs": [
    {
     "name": "stdout",
     "output_type": "stream",
     "text": [
      "+---------+---------+--------------------+--------+-------------------+---------+----------+--------------+\n",
      "|InvoiceNo|StockCode|         Description|Quantity|        InvoiceDate|UnitPrice|CustomerID|       Country|\n",
      "+---------+---------+--------------------+--------+-------------------+---------+----------+--------------+\n",
      "|   536365|   85123A|WHITE HANGING HEA...|       6|2010-12-01 08:26:00|     2.55|     17850|United Kingdom|\n",
      "|   536365|    71053| WHITE METAL LANTERN|       6|2010-12-01 08:26:00|     3.39|     17850|United Kingdom|\n",
      "|   536365|   84406B|CREAM CUPID HEART...|       8|2010-12-01 08:26:00|     2.75|     17850|United Kingdom|\n",
      "|   536365|   84029G|KNITTED UNION FLA...|       6|2010-12-01 08:26:00|     3.39|     17850|United Kingdom|\n",
      "|   536365|   84029E|RED WOOLLY HOTTIE...|       6|2010-12-01 08:26:00|     3.39|     17850|United Kingdom|\n",
      "|   536365|    22752|SET 7 BABUSHKA NE...|       2|2010-12-01 08:26:00|     7.65|     17850|United Kingdom|\n",
      "|   536365|    21730|GLASS STAR FROSTE...|       6|2010-12-01 08:26:00|     4.25|     17850|United Kingdom|\n",
      "|   536366|    22633|HAND WARMER UNION...|       6|2010-12-01 08:28:00|     1.85|     17850|United Kingdom|\n",
      "|   536366|    22632|HAND WARMER RED P...|       6|2010-12-01 08:28:00|     1.85|     17850|United Kingdom|\n",
      "|   536367|    84879|ASSORTED COLOUR B...|      32|2010-12-01 08:34:00|     1.69|     13047|United Kingdom|\n",
      "|   536367|    22745|POPPY'S PLAYHOUSE...|       6|2010-12-01 08:34:00|      2.1|     13047|United Kingdom|\n",
      "|   536367|    22748|POPPY'S PLAYHOUSE...|       6|2010-12-01 08:34:00|      2.1|     13047|United Kingdom|\n",
      "|   536367|    22749|FELTCRAFT PRINCES...|       8|2010-12-01 08:34:00|     3.75|     13047|United Kingdom|\n",
      "|   536367|    22310|IVORY KNITTED MUG...|       6|2010-12-01 08:34:00|     1.65|     13047|United Kingdom|\n",
      "|   536367|    84969|BOX OF 6 ASSORTED...|       6|2010-12-01 08:34:00|     4.25|     13047|United Kingdom|\n",
      "|   536367|    22623|BOX OF VINTAGE JI...|       3|2010-12-01 08:34:00|     4.95|     13047|United Kingdom|\n",
      "|   536367|    22622|BOX OF VINTAGE AL...|       2|2010-12-01 08:34:00|     9.95|     13047|United Kingdom|\n",
      "|   536367|    21754|HOME BUILDING BLO...|       3|2010-12-01 08:34:00|     5.95|     13047|United Kingdom|\n",
      "|   536367|    21755|LOVE BUILDING BLO...|       3|2010-12-01 08:34:00|     5.95|     13047|United Kingdom|\n",
      "|   536367|    21777|RECIPE BOX WITH M...|       4|2010-12-01 08:34:00|     7.95|     13047|United Kingdom|\n",
      "+---------+---------+--------------------+--------+-------------------+---------+----------+--------------+\n",
      "only showing top 20 rows\n",
      "\n"
     ]
    }
   ],
   "source": [
    "df.show()"
   ]
  },
  {
   "cell_type": "code",
   "execution_count": 60,
   "id": "00833bef-1c88-4dd0-abb8-070894235ab4",
   "metadata": {},
   "outputs": [
    {
     "data": {
      "text/plain": [
       "[('InvoinceNo', 'string'),\n",
       " ('StockCode', 'string'),\n",
       " ('Description', 'string'),\n",
       " ('Quantity', 'int'),\n",
       " ('InvoiceDate', 'date'),\n",
       " ('UnitPrice', 'float'),\n",
       " ('CustomerID', 'string'),\n",
       " ('Country', 'string')]"
      ]
     },
     "execution_count": 60,
     "metadata": {},
     "output_type": "execute_result"
    }
   ],
   "source": [
    "df.dtypes"
   ]
  },
  {
   "cell_type": "code",
   "execution_count": 61,
   "id": "5d43b23c-02b3-42b2-b2a3-e0fe70f2065f",
   "metadata": {},
   "outputs": [],
   "source": [
    "from pyspark.sql.functions import year, month, dayofmonth"
   ]
  },
  {
   "cell_type": "code",
   "execution_count": 68,
   "id": "2e27e4ec-de65-4356-b26e-a82879f60eba",
   "metadata": {},
   "outputs": [
    {
     "name": "stdout",
     "output_type": "stream",
     "text": [
      "+----------+---------+--------------------+--------+-----------+---------+----------+--------------+--------------+\n",
      "|InvoinceNo|StockCode|         Description|Quantity|InvoiceDate|UnitPrice|CustomerID|       Country|purchased_year|\n",
      "+----------+---------+--------------------+--------+-----------+---------+----------+--------------+--------------+\n",
      "|    536365|   85123A|WHITE HANGING HEA...|       6| 2010-12-01|     2.55|     17850|United Kingdom|          2010|\n",
      "|    536365|    71053| WHITE METAL LANTERN|       6| 2010-12-01|     3.39|     17850|United Kingdom|          2010|\n",
      "|    536365|   84406B|CREAM CUPID HEART...|       8| 2010-12-01|     2.75|     17850|United Kingdom|          2010|\n",
      "|    536365|   84029G|KNITTED UNION FLA...|       6| 2010-12-01|     3.39|     17850|United Kingdom|          2010|\n",
      "|    536365|   84029E|RED WOOLLY HOTTIE...|       6| 2010-12-01|     3.39|     17850|United Kingdom|          2010|\n",
      "|    536365|    22752|SET 7 BABUSHKA NE...|       2| 2010-12-01|     7.65|     17850|United Kingdom|          2010|\n",
      "|    536365|    21730|GLASS STAR FROSTE...|       6| 2010-12-01|     4.25|     17850|United Kingdom|          2010|\n",
      "|    536366|    22633|HAND WARMER UNION...|       6| 2010-12-01|     1.85|     17850|United Kingdom|          2010|\n",
      "|    536366|    22632|HAND WARMER RED P...|       6| 2010-12-01|     1.85|     17850|United Kingdom|          2010|\n",
      "|    536367|    84879|ASSORTED COLOUR B...|      32| 2010-12-01|     1.69|     13047|United Kingdom|          2010|\n",
      "|    536367|    22745|POPPY'S PLAYHOUSE...|       6| 2010-12-01|      2.1|     13047|United Kingdom|          2010|\n",
      "|    536367|    22748|POPPY'S PLAYHOUSE...|       6| 2010-12-01|      2.1|     13047|United Kingdom|          2010|\n",
      "|    536367|    22749|FELTCRAFT PRINCES...|       8| 2010-12-01|     3.75|     13047|United Kingdom|          2010|\n",
      "|    536367|    22310|IVORY KNITTED MUG...|       6| 2010-12-01|     1.65|     13047|United Kingdom|          2010|\n",
      "|    536367|    84969|BOX OF 6 ASSORTED...|       6| 2010-12-01|     4.25|     13047|United Kingdom|          2010|\n",
      "|    536367|    22623|BOX OF VINTAGE JI...|       3| 2010-12-01|     4.95|     13047|United Kingdom|          2010|\n",
      "|    536367|    22622|BOX OF VINTAGE AL...|       2| 2010-12-01|     9.95|     13047|United Kingdom|          2010|\n",
      "|    536367|    21754|HOME BUILDING BLO...|       3| 2010-12-01|     5.95|     13047|United Kingdom|          2010|\n",
      "|    536367|    21755|LOVE BUILDING BLO...|       3| 2010-12-01|     5.95|     13047|United Kingdom|          2010|\n",
      "|    536367|    21777|RECIPE BOX WITH M...|       4| 2010-12-01|     7.95|     13047|United Kingdom|          2010|\n",
      "+----------+---------+--------------------+--------+-----------+---------+----------+--------------+--------------+\n",
      "only showing top 20 rows\n",
      "\n"
     ]
    }
   ],
   "source": [
    "df_tmp = df.withColumn(\"purchased_year\", year('InvoiceDate'))\n",
    "df_tmp.show()"
   ]
  },
  {
   "cell_type": "code",
   "execution_count": 69,
   "id": "d087d978-6e01-440d-bb49-2ef5ad954864",
   "metadata": {},
   "outputs": [
    {
     "name": "stdout",
     "output_type": "stream",
     "text": [
      "+----------+---------+--------------------+--------+-----------+---------+----------+--------------+--------------+---------------+\n",
      "|InvoinceNo|StockCode|         Description|Quantity|InvoiceDate|UnitPrice|CustomerID|       Country|purchased_year|purchased_month|\n",
      "+----------+---------+--------------------+--------+-----------+---------+----------+--------------+--------------+---------------+\n",
      "|    536365|   85123A|WHITE HANGING HEA...|       6| 2010-12-01|     2.55|     17850|United Kingdom|          2010|             12|\n",
      "|    536365|    71053| WHITE METAL LANTERN|       6| 2010-12-01|     3.39|     17850|United Kingdom|          2010|             12|\n",
      "|    536365|   84406B|CREAM CUPID HEART...|       8| 2010-12-01|     2.75|     17850|United Kingdom|          2010|             12|\n",
      "|    536365|   84029G|KNITTED UNION FLA...|       6| 2010-12-01|     3.39|     17850|United Kingdom|          2010|             12|\n",
      "|    536365|   84029E|RED WOOLLY HOTTIE...|       6| 2010-12-01|     3.39|     17850|United Kingdom|          2010|             12|\n",
      "|    536365|    22752|SET 7 BABUSHKA NE...|       2| 2010-12-01|     7.65|     17850|United Kingdom|          2010|             12|\n",
      "|    536365|    21730|GLASS STAR FROSTE...|       6| 2010-12-01|     4.25|     17850|United Kingdom|          2010|             12|\n",
      "|    536366|    22633|HAND WARMER UNION...|       6| 2010-12-01|     1.85|     17850|United Kingdom|          2010|             12|\n",
      "|    536366|    22632|HAND WARMER RED P...|       6| 2010-12-01|     1.85|     17850|United Kingdom|          2010|             12|\n",
      "|    536367|    84879|ASSORTED COLOUR B...|      32| 2010-12-01|     1.69|     13047|United Kingdom|          2010|             12|\n",
      "|    536367|    22745|POPPY'S PLAYHOUSE...|       6| 2010-12-01|      2.1|     13047|United Kingdom|          2010|             12|\n",
      "|    536367|    22748|POPPY'S PLAYHOUSE...|       6| 2010-12-01|      2.1|     13047|United Kingdom|          2010|             12|\n",
      "|    536367|    22749|FELTCRAFT PRINCES...|       8| 2010-12-01|     3.75|     13047|United Kingdom|          2010|             12|\n",
      "|    536367|    22310|IVORY KNITTED MUG...|       6| 2010-12-01|     1.65|     13047|United Kingdom|          2010|             12|\n",
      "|    536367|    84969|BOX OF 6 ASSORTED...|       6| 2010-12-01|     4.25|     13047|United Kingdom|          2010|             12|\n",
      "|    536367|    22623|BOX OF VINTAGE JI...|       3| 2010-12-01|     4.95|     13047|United Kingdom|          2010|             12|\n",
      "|    536367|    22622|BOX OF VINTAGE AL...|       2| 2010-12-01|     9.95|     13047|United Kingdom|          2010|             12|\n",
      "|    536367|    21754|HOME BUILDING BLO...|       3| 2010-12-01|     5.95|     13047|United Kingdom|          2010|             12|\n",
      "|    536367|    21755|LOVE BUILDING BLO...|       3| 2010-12-01|     5.95|     13047|United Kingdom|          2010|             12|\n",
      "|    536367|    21777|RECIPE BOX WITH M...|       4| 2010-12-01|     7.95|     13047|United Kingdom|          2010|             12|\n",
      "+----------+---------+--------------------+--------+-----------+---------+----------+--------------+--------------+---------------+\n",
      "only showing top 20 rows\n",
      "\n"
     ]
    }
   ],
   "source": [
    "df_tmp = df_tmp.withColumn(\"purchased_month\", month('InvoiceDate'))\n",
    "df_tmp.show()"
   ]
  },
  {
   "cell_type": "code",
   "execution_count": 70,
   "id": "4cdf7c0a-e409-4a64-825e-41521a6a82cf",
   "metadata": {},
   "outputs": [
    {
     "name": "stdout",
     "output_type": "stream",
     "text": [
      "+----------+---------+--------------------+--------+-----------+---------+----------+--------------+--------------+---------------+--------------+\n",
      "|InvoinceNo|StockCode|         Description|Quantity|InvoiceDate|UnitPrice|CustomerID|       Country|purchased_year|purchased_month|purchased_date|\n",
      "+----------+---------+--------------------+--------+-----------+---------+----------+--------------+--------------+---------------+--------------+\n",
      "|    536365|   85123A|WHITE HANGING HEA...|       6| 2010-12-01|     2.55|     17850|United Kingdom|          2010|             12|             1|\n",
      "|    536365|    71053| WHITE METAL LANTERN|       6| 2010-12-01|     3.39|     17850|United Kingdom|          2010|             12|             1|\n",
      "|    536365|   84406B|CREAM CUPID HEART...|       8| 2010-12-01|     2.75|     17850|United Kingdom|          2010|             12|             1|\n",
      "|    536365|   84029G|KNITTED UNION FLA...|       6| 2010-12-01|     3.39|     17850|United Kingdom|          2010|             12|             1|\n",
      "|    536365|   84029E|RED WOOLLY HOTTIE...|       6| 2010-12-01|     3.39|     17850|United Kingdom|          2010|             12|             1|\n",
      "|    536365|    22752|SET 7 BABUSHKA NE...|       2| 2010-12-01|     7.65|     17850|United Kingdom|          2010|             12|             1|\n",
      "|    536365|    21730|GLASS STAR FROSTE...|       6| 2010-12-01|     4.25|     17850|United Kingdom|          2010|             12|             1|\n",
      "|    536366|    22633|HAND WARMER UNION...|       6| 2010-12-01|     1.85|     17850|United Kingdom|          2010|             12|             1|\n",
      "|    536366|    22632|HAND WARMER RED P...|       6| 2010-12-01|     1.85|     17850|United Kingdom|          2010|             12|             1|\n",
      "|    536367|    84879|ASSORTED COLOUR B...|      32| 2010-12-01|     1.69|     13047|United Kingdom|          2010|             12|             1|\n",
      "|    536367|    22745|POPPY'S PLAYHOUSE...|       6| 2010-12-01|      2.1|     13047|United Kingdom|          2010|             12|             1|\n",
      "|    536367|    22748|POPPY'S PLAYHOUSE...|       6| 2010-12-01|      2.1|     13047|United Kingdom|          2010|             12|             1|\n",
      "|    536367|    22749|FELTCRAFT PRINCES...|       8| 2010-12-01|     3.75|     13047|United Kingdom|          2010|             12|             1|\n",
      "|    536367|    22310|IVORY KNITTED MUG...|       6| 2010-12-01|     1.65|     13047|United Kingdom|          2010|             12|             1|\n",
      "|    536367|    84969|BOX OF 6 ASSORTED...|       6| 2010-12-01|     4.25|     13047|United Kingdom|          2010|             12|             1|\n",
      "|    536367|    22623|BOX OF VINTAGE JI...|       3| 2010-12-01|     4.95|     13047|United Kingdom|          2010|             12|             1|\n",
      "|    536367|    22622|BOX OF VINTAGE AL...|       2| 2010-12-01|     9.95|     13047|United Kingdom|          2010|             12|             1|\n",
      "|    536367|    21754|HOME BUILDING BLO...|       3| 2010-12-01|     5.95|     13047|United Kingdom|          2010|             12|             1|\n",
      "|    536367|    21755|LOVE BUILDING BLO...|       3| 2010-12-01|     5.95|     13047|United Kingdom|          2010|             12|             1|\n",
      "|    536367|    21777|RECIPE BOX WITH M...|       4| 2010-12-01|     7.95|     13047|United Kingdom|          2010|             12|             1|\n",
      "+----------+---------+--------------------+--------+-----------+---------+----------+--------------+--------------+---------------+--------------+\n",
      "only showing top 20 rows\n",
      "\n"
     ]
    }
   ],
   "source": [
    "df_tmp = df_tmp.withColumn(\"purchased_date\", dayofmonth('InvoiceDate'))\n",
    "df_tmp.show()"
   ]
  },
  {
   "cell_type": "code",
   "execution_count": 71,
   "id": "e97aea75-48a9-4de5-8d61-f593205588e1",
   "metadata": {},
   "outputs": [],
   "source": [
    "# 欠損値処理"
   ]
  },
  {
   "cell_type": "code",
   "execution_count": 76,
   "id": "7d9c589e-92f8-4846-be50-26fdac7c3804",
   "metadata": {},
   "outputs": [
    {
     "name": "stdout",
     "output_type": "stream",
     "text": [
      "+----------+---------+--------------------+--------+-----------+---------+----------+--------------+\n",
      "|InvoinceNo|StockCode|         Description|Quantity|InvoiceDate|UnitPrice|CustomerID|       Country|\n",
      "+----------+---------+--------------------+--------+-----------+---------+----------+--------------+\n",
      "|    536365|   85123A|WHITE HANGING HEA...|       6| 2010-12-01|     2.55|     17850|United Kingdom|\n",
      "|    536365|    71053| WHITE METAL LANTERN|       6| 2010-12-01|     3.39|     17850|United Kingdom|\n",
      "|    536365|   84406B|CREAM CUPID HEART...|       8| 2010-12-01|     2.75|     17850|United Kingdom|\n",
      "|    536365|   84029G|KNITTED UNION FLA...|       6| 2010-12-01|     3.39|     17850|United Kingdom|\n",
      "|    536365|   84029E|RED WOOLLY HOTTIE...|       6| 2010-12-01|     3.39|     17850|United Kingdom|\n",
      "|    536365|    22752|SET 7 BABUSHKA NE...|       2| 2010-12-01|     7.65|     17850|United Kingdom|\n",
      "|    536365|    21730|GLASS STAR FROSTE...|       6| 2010-12-01|     4.25|     17850|United Kingdom|\n",
      "|    536366|    22633|HAND WARMER UNION...|       6| 2010-12-01|     1.85|     17850|United Kingdom|\n",
      "|    536366|    22632|HAND WARMER RED P...|       6| 2010-12-01|     1.85|     17850|United Kingdom|\n",
      "|    536367|    84879|ASSORTED COLOUR B...|      32| 2010-12-01|     1.69|     13047|United Kingdom|\n",
      "|    536367|    22745|POPPY'S PLAYHOUSE...|       6| 2010-12-01|      2.1|     13047|United Kingdom|\n",
      "|    536367|    22748|POPPY'S PLAYHOUSE...|       6| 2010-12-01|      2.1|     13047|United Kingdom|\n",
      "|    536367|    22749|FELTCRAFT PRINCES...|       8| 2010-12-01|     3.75|     13047|United Kingdom|\n",
      "|    536367|    22310|IVORY KNITTED MUG...|       6| 2010-12-01|     1.65|     13047|United Kingdom|\n",
      "|    536367|    84969|BOX OF 6 ASSORTED...|       6| 2010-12-01|     4.25|     13047|United Kingdom|\n",
      "|    536367|    22623|BOX OF VINTAGE JI...|       3| 2010-12-01|     4.95|     13047|United Kingdom|\n",
      "|    536367|    22622|BOX OF VINTAGE AL...|       2| 2010-12-01|     9.95|     13047|United Kingdom|\n",
      "|    536367|    21754|HOME BUILDING BLO...|       3| 2010-12-01|     5.95|     13047|United Kingdom|\n",
      "|    536367|    21755|LOVE BUILDING BLO...|       3| 2010-12-01|     5.95|     13047|United Kingdom|\n",
      "|    536367|    21777|RECIPE BOX WITH M...|       4| 2010-12-01|     7.95|     13047|United Kingdom|\n",
      "+----------+---------+--------------------+--------+-----------+---------+----------+--------------+\n",
      "only showing top 20 rows\n",
      "\n"
     ]
    }
   ],
   "source": [
    "df.show()"
   ]
  },
  {
   "cell_type": "code",
   "execution_count": 80,
   "id": "e3beb9bc-4d7f-4a87-9d87-a0f2e37993ad",
   "metadata": {},
   "outputs": [
    {
     "name": "stdout",
     "output_type": "stream",
     "text": [
      "+---------+---------+-----------+--------+-----------+---------+----------+-------+\n",
      "|InvoiceNo|StockCode|Description|Quantity|InvoiceDate|UnitPrice|CustomerID|Country|\n",
      "+---------+---------+-----------+--------+-----------+---------+----------+-------+\n",
      "+---------+---------+-----------+--------+-----------+---------+----------+-------+\n",
      "\n"
     ]
    }
   ],
   "source": [
    "# isNull\n",
    "df[df[\"InvoiceNo\"].isNull()].show()"
   ]
  },
  {
   "cell_type": "code",
   "execution_count": 81,
   "id": "cb9d8e63-9cbf-422f-862c-65e1105ce68b",
   "metadata": {},
   "outputs": [
    {
     "name": "stdout",
     "output_type": "stream",
     "text": [
      "+---------+---------+-----------+--------+-----------+---------+----------+--------------+\n",
      "|InvoiceNo|StockCode|Description|Quantity|InvoiceDate|UnitPrice|CustomerID|       Country|\n",
      "+---------+---------+-----------+--------+-----------+---------+----------+--------------+\n",
      "|   536414|    22139|       null|      56| 2010-12-01|      0.0|      null|United Kingdom|\n",
      "|   536545|    21134|       null|       1| 2010-12-01|      0.0|      null|United Kingdom|\n",
      "|   536546|    22145|       null|       1| 2010-12-01|      0.0|      null|United Kingdom|\n",
      "|   536547|    37509|       null|       1| 2010-12-01|      0.0|      null|United Kingdom|\n",
      "|   536549|   85226A|       null|       1| 2010-12-01|      0.0|      null|United Kingdom|\n",
      "|   536550|    85044|       null|       1| 2010-12-01|      0.0|      null|United Kingdom|\n",
      "|   536552|    20950|       null|       1| 2010-12-01|      0.0|      null|United Kingdom|\n",
      "|   536553|    37461|       null|       3| 2010-12-01|      0.0|      null|United Kingdom|\n",
      "|   536554|    84670|       null|      23| 2010-12-01|      0.0|      null|United Kingdom|\n",
      "|   536589|    21777|       null|     -10| 2010-12-01|      0.0|      null|United Kingdom|\n",
      "|   536764|   84952C|       null|     -38| 2010-12-02|      0.0|      null|United Kingdom|\n",
      "|   536765|   84952C|       null|      19| 2010-12-02|      0.0|      null|United Kingdom|\n",
      "|   536995|    35951|       null|      57| 2010-12-03|      0.0|      null|United Kingdom|\n",
      "|   536996|    22712|       null|     -20| 2010-12-03|      0.0|      null|United Kingdom|\n",
      "|   536997|    22028|       null|     -20| 2010-12-03|      0.0|      null|United Kingdom|\n",
      "|   536998|    85067|       null|      -6| 2010-12-03|      0.0|      null|United Kingdom|\n",
      "|   536999|    21421|       null|     110| 2010-12-03|      0.0|      null|United Kingdom|\n",
      "|   537000|    21414|       null|     -22| 2010-12-03|      0.0|      null|United Kingdom|\n",
      "|   537001|    21653|       null|      -6| 2010-12-03|      0.0|      null|United Kingdom|\n",
      "|   537002|    21651|       null|      70| 2010-12-03|      0.0|      null|United Kingdom|\n",
      "+---------+---------+-----------+--------+-----------+---------+----------+--------------+\n",
      "only showing top 20 rows\n",
      "\n"
     ]
    }
   ],
   "source": [
    "df[df[\"Description\"].isNull()].show()"
   ]
  },
  {
   "cell_type": "code",
   "execution_count": 82,
   "id": "5f30ff31-240a-41bf-9243-de2bd55efedb",
   "metadata": {},
   "outputs": [
    {
     "data": {
      "text/plain": [
       "1454"
      ]
     },
     "execution_count": 82,
     "metadata": {},
     "output_type": "execute_result"
    }
   ],
   "source": [
    "df[df[\"Description\"].isNull()].count()"
   ]
  },
  {
   "cell_type": "code",
   "execution_count": 83,
   "id": "d183b982-163a-4f38-a3bc-a0f7a18c2157",
   "metadata": {},
   "outputs": [],
   "source": [
    "# nanチェック isnan\n",
    "from pyspark.sql.functions import isnan"
   ]
  },
  {
   "cell_type": "code",
   "execution_count": 86,
   "id": "d07d6bc3-dc80-42c3-b497-bf3cfdcafa91",
   "metadata": {},
   "outputs": [
    {
     "data": {
      "text/plain": [
       "0"
      ]
     },
     "execution_count": 86,
     "metadata": {},
     "output_type": "execute_result"
    }
   ],
   "source": [
    "df[isnan(df[\"UnitPrice\"])].count()"
   ]
  },
  {
   "cell_type": "code",
   "execution_count": 87,
   "id": "5850f6ff-ba4a-4856-8a82-98474ca0f872",
   "metadata": {},
   "outputs": [],
   "source": [
    "# 欠損値の埋め fillna"
   ]
  },
  {
   "cell_type": "code",
   "execution_count": 88,
   "id": "4dc753d0-c712-4421-acf5-dd8782af1896",
   "metadata": {},
   "outputs": [],
   "source": [
    "df = df.fillna(\"unknown\", subset=[\"Description\"])"
   ]
  },
  {
   "cell_type": "code",
   "execution_count": 89,
   "id": "4420bb37-9ba0-4dbe-9cfa-0b3fd6fe2b25",
   "metadata": {},
   "outputs": [
    {
     "data": {
      "text/plain": [
       "1454"
      ]
     },
     "execution_count": 89,
     "metadata": {},
     "output_type": "execute_result"
    }
   ],
   "source": [
    "df.filter(df[\"Description\"]==\"unknown\").count()"
   ]
  },
  {
   "cell_type": "code",
   "execution_count": 90,
   "id": "fe38948a-6370-4e71-9549-691d04e055df",
   "metadata": {},
   "outputs": [
    {
     "data": {
      "text/plain": [
       "0"
      ]
     },
     "execution_count": 90,
     "metadata": {},
     "output_type": "execute_result"
    }
   ],
   "source": [
    "df[df[\"Description\"].isNull()].count()"
   ]
  },
  {
   "cell_type": "code",
   "execution_count": 96,
   "id": "29e4fb91-12f8-4182-9d04-820054f2ae20",
   "metadata": {},
   "outputs": [
    {
     "data": {
      "text/plain": [
       "135080"
      ]
     },
     "execution_count": 96,
     "metadata": {},
     "output_type": "execute_result"
    }
   ],
   "source": [
    "# 欠損値の削除 dropna\n",
    "df[df[\"CustomerID\"].isNull()].count()"
   ]
  },
  {
   "cell_type": "code",
   "execution_count": 97,
   "id": "9d60391e-35f7-4a87-9d64-bad33af989a1",
   "metadata": {},
   "outputs": [
    {
     "data": {
      "text/plain": [
       "541909"
      ]
     },
     "execution_count": 97,
     "metadata": {},
     "output_type": "execute_result"
    }
   ],
   "source": [
    "df.count()"
   ]
  },
  {
   "cell_type": "code",
   "execution_count": 98,
   "id": "978230cd-9d69-42c3-9d2c-5c6a171ca23c",
   "metadata": {},
   "outputs": [
    {
     "data": {
      "text/plain": [
       "406829"
      ]
     },
     "execution_count": 98,
     "metadata": {},
     "output_type": "execute_result"
    }
   ],
   "source": [
    "df.dropna(\"any\").count()"
   ]
  },
  {
   "cell_type": "code",
   "execution_count": null,
   "id": "98fff2a7-3be4-426e-bae7-64ce2efcf831",
   "metadata": {},
   "outputs": [],
   "source": []
  }
 ],
 "metadata": {
  "kernelspec": {
   "display_name": "Python 3 (ipykernel)",
   "language": "python",
   "name": "python3"
  },
  "language_info": {
   "codemirror_mode": {
    "name": "ipython",
    "version": 3
   },
   "file_extension": ".py",
   "mimetype": "text/x-python",
   "name": "python",
   "nbconvert_exporter": "python",
   "pygments_lexer": "ipython3",
   "version": "3.10.6"
  }
 },
 "nbformat": 4,
 "nbformat_minor": 5
}
